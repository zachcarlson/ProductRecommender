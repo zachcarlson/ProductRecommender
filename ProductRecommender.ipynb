{
  "cells": [
    {
      "cell_type": "markdown",
      "id": "f256f67a",
      "metadata": {
        "id": "f256f67a"
      },
      "source": [
        "# Using PySpark to Create an Amazon Review Recommendation System \n",
        "\n"
      ]
    },
    {
      "cell_type": "markdown",
      "id": "dd22a959",
      "metadata": {
        "id": "dd22a959"
      },
      "source": [
        "This Jupyter Notebook contains code to create a recommendation system for Amazon user reviews on specific products using PySpark.  It was created as a final project for the class INFO 607: Applied Database Technologies at Drexel University.  The data was downloaded from FIXME: data source.  \n",
        "\n",
        "Additional documentation on this project can be found at the Github repository [here](https://github.com/zachcarlson/ProductRecommender)."
      ]
    },
    {
      "cell_type": "markdown",
      "id": "5048aca6",
      "metadata": {
        "id": "5048aca6"
      },
      "source": [
        "## Configuration"
      ]
    },
    {
      "cell_type": "code",
      "execution_count": 1,
      "id": "df3783e3",
      "metadata": {
        "colab": {
          "base_uri": "https://localhost:8080/"
        },
        "id": "df3783e3",
        "outputId": "4846ceff-ed93-405c-f846-2dde9290eba9"
      },
      "outputs": [
        {
          "output_type": "stream",
          "name": "stdout",
          "text": [
            "Mounted at /content/drive\n"
          ]
        }
      ],
      "source": [
        "from google.colab import drive\n",
        "drive.mount('/content/drive')"
      ]
    },
    {
      "cell_type": "code",
      "source": [
        "INPUT_DIRECTORY = \"/content/drive/MyDrive/Grad School/INFO 607/ProductRecommender/data/\" #for google mount\n",
        "# INPUT_DIRECTORY = \"./data/\" #for jupyter notebook"
      ],
      "metadata": {
        "id": "3ZzpwWEZ5acF"
      },
      "id": "3ZzpwWEZ5acF",
      "execution_count": 2,
      "outputs": []
    },
    {
      "cell_type": "markdown",
      "source": [
        "The cell below may take 1-2 minutes to execute:"
      ],
      "metadata": {
        "id": "6e0Kq2iN512X"
      },
      "id": "6e0Kq2iN512X"
    },
    {
      "cell_type": "code",
      "source": [
        "%%capture \n",
        "#prevent large printout with %%capture\n",
        "\n",
        "#Download Java\n",
        "!apt-get install openjdk-8-jdk-headless -qq > /dev/null\n",
        "\n",
        "#Install Apache Spark 3.2.1 with Hadoop 3.2, get zipped folder\n",
        "!wget -q https://dlcdn.apache.org/spark/spark-3.2.1/spark-3.2.1-bin-hadoop3.2.tgz\n",
        "\n",
        "#Unzip folder\n",
        "!tar xvf spark-3.2.1-bin-hadoop3.2.tgz\n",
        "\n",
        "#Install findspark, pyspark 3.2.1\n",
        "!pip install -q findspark\n",
        "!pip install pyspark==3.2.1\n",
        "\n",
        "#Set variables\n",
        "import os\n",
        "os.environ[\"JAVA_HOME\"] = \"/usr/lib/jvm/java-8-openjdk-amd64\"\n",
        "os.environ[\"SPARK_HOME\"] = \"spark-3.2.1-bin-hadoop3.2\""
      ],
      "metadata": {
        "id": "XZYrDEpm5e7j"
      },
      "id": "XZYrDEpm5e7j",
      "execution_count": 3,
      "outputs": []
    },
    {
      "cell_type": "markdown",
      "source": [
        "## Load Packages"
      ],
      "metadata": {
        "id": "tUNtTpW65jJR"
      },
      "id": "tUNtTpW65jJR"
    },
    {
      "cell_type": "code",
      "source": [
        "import pandas as pd\n",
        "import pyspark.sql.functions as F"
      ],
      "metadata": {
        "id": "nduYfIam5na_"
      },
      "id": "nduYfIam5na_",
      "execution_count": 4,
      "outputs": []
    },
    {
      "cell_type": "markdown",
      "id": "e51316b1",
      "metadata": {
        "id": "e51316b1"
      },
      "source": [
        "## Data Acquisition, Preprocessing"
      ]
    },
    {
      "cell_type": "markdown",
      "source": [
        "### Import Data"
      ],
      "metadata": {
        "id": "mC2aHr0-6PaF"
      },
      "id": "mC2aHr0-6PaF"
    },
    {
      "cell_type": "code",
      "execution_count": 5,
      "id": "87cec9ff",
      "metadata": {
        "id": "87cec9ff"
      },
      "outputs": [],
      "source": [
        "#create SparkSession and SparkContext objects\n",
        "from pyspark import SparkContext\n",
        "from pyspark.sql import SparkSession\n",
        "\n",
        "sc = SparkContext.getOrCreate()\n",
        "spark = SparkSession.builder.getOrCreate()"
      ]
    },
    {
      "cell_type": "code",
      "source": [
        "#Import data\n",
        "file_path = INPUT_DIRECTORY + \"ratings_electronics.csv\"\n",
        "ratings = spark.read.csv(file_path, header=False, inferSchema=True)\n",
        "ratings.show(5)"
      ],
      "metadata": {
        "colab": {
          "base_uri": "https://localhost:8080/"
        },
        "id": "sn3IL-tG6VWb",
        "outputId": "9d789572-2f2b-4386-f6ef-27684e760739"
      },
      "id": "sn3IL-tG6VWb",
      "execution_count": 6,
      "outputs": [
        {
          "output_type": "stream",
          "name": "stdout",
          "text": [
            "+--------------+----------+---+----------+\n",
            "|           _c0|       _c1|_c2|       _c3|\n",
            "+--------------+----------+---+----------+\n",
            "| AKM1MP6P0OYPR|0132793040|5.0|1365811200|\n",
            "|A2CX7LUOHB2NDG|0321732944|5.0|1341100800|\n",
            "|A2NWSAGRHCP8N5|0439886341|1.0|1367193600|\n",
            "|A2WNBOD3WNDNKT|0439886341|3.0|1374451200|\n",
            "|A1GI0U4ZRJA8WN|0439886341|1.0|1334707200|\n",
            "+--------------+----------+---+----------+\n",
            "only showing top 5 rows\n",
            "\n"
          ]
        }
      ]
    },
    {
      "cell_type": "code",
      "source": [
        "ratings = ratings.withColumnRenamed(\"_c0\", \"reviewerID\") \\\n",
        "                  .withColumnRenamed(\"_c1\", \"productID\") \\\n",
        "                  .withColumnRenamed(\"_c2\", \"rating\") \\\n",
        "                  .withColumnRenamed(\"_c3\", \"timestamp\")\n",
        "ratings.show(5)"
      ],
      "metadata": {
        "colab": {
          "base_uri": "https://localhost:8080/"
        },
        "id": "Xa9-VFAt7zx-",
        "outputId": "bf6256e4-2e5f-4d71-bfed-65e2549ca5e7"
      },
      "id": "Xa9-VFAt7zx-",
      "execution_count": 7,
      "outputs": [
        {
          "output_type": "stream",
          "name": "stdout",
          "text": [
            "+--------------+----------+------+----------+\n",
            "|    reviewerID| productID|rating| timestamp|\n",
            "+--------------+----------+------+----------+\n",
            "| AKM1MP6P0OYPR|0132793040|   5.0|1365811200|\n",
            "|A2CX7LUOHB2NDG|0321732944|   5.0|1341100800|\n",
            "|A2NWSAGRHCP8N5|0439886341|   1.0|1367193600|\n",
            "|A2WNBOD3WNDNKT|0439886341|   3.0|1374451200|\n",
            "|A1GI0U4ZRJA8WN|0439886341|   1.0|1334707200|\n",
            "+--------------+----------+------+----------+\n",
            "only showing top 5 rows\n",
            "\n"
          ]
        }
      ]
    },
    {
      "cell_type": "markdown",
      "id": "b869102f",
      "metadata": {
        "id": "b869102f"
      },
      "source": [
        "## EDA"
      ]
    },
    {
      "cell_type": "markdown",
      "id": "38e6d39b",
      "metadata": {
        "id": "38e6d39b"
      },
      "source": [
        "Count ratings made by each customer"
      ]
    },
    {
      "cell_type": "code",
      "execution_count": 9,
      "id": "0d45b814",
      "metadata": {
        "id": "0d45b814",
        "colab": {
          "base_uri": "https://localhost:8080/"
        },
        "outputId": "08a8e59e-7048-4161-9691-25b0c073d110"
      },
      "outputs": [
        {
          "output_type": "stream",
          "name": "stdout",
          "text": [
            "+--------------+-----+\n",
            "|    reviewerID|count|\n",
            "+--------------+-----+\n",
            "| A5JLAU2ARJ0BO|  520|\n",
            "|  ADLVFFE4VBT8|  501|\n",
            "|A3OXHLG6DIBRW8|  498|\n",
            "|  A6FIAB28IS79|  431|\n",
            "| A680RUE1FDO8B|  406|\n",
            "|A1ODOGXEYECQQ8|  380|\n",
            "|A36K2N527TXXJN|  314|\n",
            "|A2AY4YUOX2N1BQ|  311|\n",
            "| AWPODHOB4GFWL|  308|\n",
            "| ARBKYIVNYWK3C|  296|\n",
            "|A25C2M3QF9G7OQ|  296|\n",
            "|A22CW0ZHY3NJH8|  292|\n",
            "|A3EXWV8FNSSFL6|  282|\n",
            "| A38RMU1Y5TDP9|  282|\n",
            "|A3LGT6UZL99IW1|  279|\n",
            "|A2NOW4U7W3F7RI|  277|\n",
            "|A23GFTVIETX7DS|  270|\n",
            "|A3PD8JD9L4WEII|  266|\n",
            "|A17BUUBOU0598B|  261|\n",
            "|A3AYSYSLHU26U9|  257|\n",
            "+--------------+-----+\n",
            "only showing top 20 rows\n",
            "\n"
          ]
        }
      ],
      "source": [
        "ratings.select(\"reviewerID\", \"productID\", \"rating\")\\\n",
        "        .groupby(\"reviewerID\")\\\n",
        "        .count()\\\n",
        "        .sort(\"count\", ascending = False)\\\n",
        "        .show()"
      ]
    },
    {
      "cell_type": "markdown",
      "source": [
        "Count ratings for each product"
      ],
      "metadata": {
        "id": "cIVvJVai9eEB"
      },
      "id": "cIVvJVai9eEB"
    },
    {
      "cell_type": "code",
      "source": [
        "ratings.select(\"reviewerID\", \"productID\", \"rating\")\\\n",
        "        .groupby(\"productID\")\\\n",
        "        .count()\\\n",
        "        .sort(\"count\", ascending = False)\\\n",
        "        .show()"
      ],
      "metadata": {
        "colab": {
          "base_uri": "https://localhost:8080/"
        },
        "id": "IEgKLq4H8vzo",
        "outputId": "8f7f1487-1683-4e13-e16a-9f7406047334"
      },
      "id": "IEgKLq4H8vzo",
      "execution_count": 12,
      "outputs": [
        {
          "output_type": "stream",
          "name": "stdout",
          "text": [
            "+----------+-----+\n",
            "| productID|count|\n",
            "+----------+-----+\n",
            "|B0074BW614|18244|\n",
            "|B00DR0PDNE|16454|\n",
            "|B007WTAJTO|14172|\n",
            "|B0019EHU8G|12285|\n",
            "|B006GWO5WK|12226|\n",
            "|B003ELYQGG|11617|\n",
            "|B003ES5ZUU|10276|\n",
            "|B007R5YDYA| 9907|\n",
            "|B00622AG6S| 9823|\n",
            "|B0002L5R78| 9487|\n",
            "|B008OHNZI0| 8966|\n",
            "|B003LR7ME6| 8840|\n",
            "|B000LRMS66| 8715|\n",
            "|B009SYZ8OC| 8370|\n",
            "|B00BGA9WK2| 7561|\n",
            "|B004QK7HI8| 7060|\n",
            "|B009A5204K| 7059|\n",
            "|B00BGGDVOO| 6893|\n",
            "|B0098F5W0Q| 6616|\n",
            "|B002MAPRYU| 6599|\n",
            "+----------+-----+\n",
            "only showing top 20 rows\n",
            "\n"
          ]
        }
      ]
    },
    {
      "cell_type": "markdown",
      "source": [
        "Count ratings for each pair of product - customer.\n",
        "\n",
        "NOTE: There is only one count for each pair."
      ],
      "metadata": {
        "id": "eg3ojre49lmQ"
      },
      "id": "eg3ojre49lmQ"
    },
    {
      "cell_type": "code",
      "source": [
        "ratings.select(\"reviewerID\", \"productID\", \"rating\")\\\n",
        "        .groupby(\"productID\",\"reviewerID\")\\\n",
        "        .count()\\\n",
        "        .sort(\"count\", ascending = True)\\\n",
        "        .show()"
      ],
      "metadata": {
        "colab": {
          "base_uri": "https://localhost:8080/"
        },
        "id": "JGoFVOu99SDk",
        "outputId": "a588716d-9682-4019-9bf1-24ac0ab54264"
      },
      "id": "JGoFVOu99SDk",
      "execution_count": 13,
      "outputs": [
        {
          "output_type": "stream",
          "name": "stdout",
          "text": [
            "+----------+--------------+-----+\n",
            "| productID|    reviewerID|count|\n",
            "+----------+--------------+-----+\n",
            "|0321732944|A2CX7LUOHB2NDG|    1|\n",
            "|0439886341|A2NWSAGRHCP8N5|    1|\n",
            "|0511189877|A3J3BRHTDRFJ2G|    1|\n",
            "|0528881469|A19TBA1WARJS55|    1|\n",
            "|0528881469|A1E4WG8HRWWK4R|    1|\n",
            "|0528881469|A1H8PY3QHMQQA0|    1|\n",
            "|0528881469|A24QFSUU00IZ05|    1|\n",
            "|0528881469|A29LPQQDG7LD5J|    1|\n",
            "|0528881469|A2O8FIJR9EBU56|    1|\n",
            "|0528881469|A2XSWV6AQI90BR|    1|\n",
            "|0528881469|A3C5SMBSKKWNPT|    1|\n",
            "|0528881469|A3N7T0DY83Y4IG|    1|\n",
            "|0528881469| AYTBGUX49LF3W|    1|\n",
            "|059400232X|A22FB2WSZSXSHH|    1|\n",
            "|0594012015|A1HOSS7PNC1LMU|    1|\n",
            "|0594033926|A253JJFXQNPCOJ|    1|\n",
            "|0594033926|A2PL24SVISXZM9|    1|\n",
            "|0594033926|A3HQ8RXUMJ2Y58|    1|\n",
            "|0594033926|A3I1C8WM8DLSMM|    1|\n",
            "|0594033926| AHYURLVH267MA|    1|\n",
            "+----------+--------------+-----+\n",
            "only showing top 20 rows\n",
            "\n"
          ]
        }
      ]
    },
    {
      "cell_type": "markdown",
      "source": [
        "Count and average ratings for each product"
      ],
      "metadata": {
        "id": "XUe7ew_wAs3Y"
      },
      "id": "XUe7ew_wAs3Y"
    },
    {
      "cell_type": "code",
      "source": [
        "avg_ratings = (ratings\n",
        "                .select(\"productID\", \"rating\")              # Select Columns\n",
        "                .groupby(\"productID\")                       # Group by productID\n",
        "                .agg(                           \n",
        "                     F.count(\"rating\").alias(\"Count\"),      # Count number of ratings\n",
        "                     F.avg(\"rating\").alias(\"Average\")       # Average ratings for each product\n",
        "                     )\n",
        "                .sort(\"Average\", \"Count\", ascending = [False, False]) # Sort results by average and count\n",
        "            )"
      ],
      "metadata": {
        "id": "VMYUPMA69uge"
      },
      "id": "VMYUPMA69uge",
      "execution_count": 14,
      "outputs": []
    },
    {
      "cell_type": "code",
      "source": [
        "avg_ratings.show()"
      ],
      "metadata": {
        "colab": {
          "base_uri": "https://localhost:8080/"
        },
        "id": "aaojukdJCdSF",
        "outputId": "4b219481-daef-4999-a29a-5f1096b23672"
      },
      "id": "aaojukdJCdSF",
      "execution_count": 15,
      "outputs": [
        {
          "output_type": "stream",
          "name": "stdout",
          "text": [
            "+----------+-----+-------+\n",
            "| productID|Count|Average|\n",
            "+----------+-----+-------+\n",
            "|B008I64AQ8|   45|    5.0|\n",
            "|B00GQDCMVA|   41|    5.0|\n",
            "|B007WMOCW6|   38|    5.0|\n",
            "|B00592002W|   36|    5.0|\n",
            "|B002T3JN0Y|   36|    5.0|\n",
            "|B00DWLPUZY|   34|    5.0|\n",
            "|B00KC7I2GU|   31|    5.0|\n",
            "|B000FIJA6W|   28|    5.0|\n",
            "|B00009R8ZW|   28|    5.0|\n",
            "|B0002VAVII|   25|    5.0|\n",
            "|B0007KK2KG|   23|    5.0|\n",
            "|B00KSLCU72|   22|    5.0|\n",
            "|B001R84CGW|   22|    5.0|\n",
            "|B004PLVROS|   22|    5.0|\n",
            "|B00AN8Z7B6|   22|    5.0|\n",
            "|B00GT3EDRS|   21|    5.0|\n",
            "|B00G9W9LJY|   20|    5.0|\n",
            "|B00CRN3D98|   20|    5.0|\n",
            "|B007ECEHBK|   20|    5.0|\n",
            "|B00AO0K42U|   20|    5.0|\n",
            "+----------+-----+-------+\n",
            "only showing top 20 rows\n",
            "\n"
          ]
        }
      ]
    },
    {
      "cell_type": "markdown",
      "source": [
        "Replacing productID & reviewerID with numbers starting at 1:"
      ],
      "metadata": {
        "id": "8u0q1MggDH2f"
      },
      "id": "8u0q1MggDH2f"
    },
    {
      "cell_type": "code",
      "source": [
        "# Add an integer id for reviewer\n",
        "reviewers = ratings.select(\"reviewerID\").distinct().createOrReplaceTempView('reviewers')\n",
        "new_rev_id = spark.sql('select row_number() over (order by \"reviewerID\") as reviewer_id, * from reviewers')\n",
        "\n",
        "# Add an integer id for product\n",
        "products = ratings.select(\"productID\").distinct().createOrReplaceTempView('products')\n",
        "new_prod_id = spark.sql('select row_number() over (order by \"productID\") as product_id, * from products')\n",
        "\n",
        "# Join dfs\n",
        "new_ratings = ratings.join(new_rev_id, \"reviewerID\", \"inner\").join(new_prod_id, \"productID\", \"inner\")\n",
        "\n",
        "# Sanity Check\n",
        "new_ratings.show()"
      ],
      "metadata": {
        "colab": {
          "base_uri": "https://localhost:8080/"
        },
        "id": "BD41jvS8DGzo",
        "outputId": "b3a09bd1-5b4f-4784-b2b9-336c35442f67"
      },
      "id": "BD41jvS8DGzo",
      "execution_count": 16,
      "outputs": [
        {
          "output_type": "stream",
          "name": "stdout",
          "text": [
            "+----------+--------------+------+----------+-----------+----------+\n",
            "| productID|    reviewerID|rating| timestamp|reviewer_id|product_id|\n",
            "+----------+--------------+------+----------+-----------+----------+\n",
            "|0528881469|A1H8PY3QHMQQA0|   2.0|1290556800|     250975|       930|\n",
            "|0528881469|A265MKAR2WEH3Y|   4.0|1294790400|     397298|       930|\n",
            "|0528881469|A29LPQQDG7LD5J|   1.0|1352073600|      73203|       930|\n",
            "|0528881469|A3IQGFB959IR4P|   1.0|1327363200|     135306|       930|\n",
            "|0528881469|A3N7T0DY83Y4IG|   3.0|1283990400|     124959|       930|\n",
            "|0528881469| AR84FMFYCQCWF|   1.0|1296691200|     145834|       930|\n",
            "|0528881469|A1DA3W4GTFXP6O|   5.0|1405641600|     762649|       930|\n",
            "|0528881469| A2CPBQ5W4OGBX|   2.0|1277078400|     710366|       930|\n",
            "|0528881469|A2O8FIJR9EBU56|   4.0|1278547200|     501568|       930|\n",
            "|0528881469|A3C5SMBSKKWNPT|   5.0|1285113600|     741686|       930|\n",
            "|0528881469| AMO214LNFCEI4|   1.0|1290643200|     783563|       930|\n",
            "|0528881469| AO94DHGC771SJ|   5.0|1370131200|     605703|       930|\n",
            "|0528881469| AYTBGUX49LF3W|   4.0|1398470400|     772986|       930|\n",
            "|0528881469|A132P6YSJSI5G2|   2.0|1298851200|     867254|       930|\n",
            "|0528881469|A2XSWV6AQI90BR|   1.0|1299974400|     940449|       930|\n",
            "|0528881469|A37K02NKUIT68K|   5.0|1293235200|     825464|       930|\n",
            "|0528881469|A3T6ZQONABIJSG|   1.0|1358035200|     992704|       930|\n",
            "|0528881469|A1E4WG8HRWWK4R|   5.0|1390867200|    2301926|       930|\n",
            "|0528881469|A1NG5X8VYZWX0Q|   1.0|1286582400|    2447177|       930|\n",
            "|0528881469|A24EV6RXELQZ63|   1.0|1317254400|    2711125|       930|\n",
            "+----------+--------------+------+----------+-----------+----------+\n",
            "only showing top 20 rows\n",
            "\n"
          ]
        }
      ]
    },
    {
      "cell_type": "code",
      "source": [
        "new_prod_id.show(), new_rev_id.show()"
      ],
      "metadata": {
        "colab": {
          "base_uri": "https://localhost:8080/"
        },
        "id": "HRMb3owxEVcN",
        "outputId": "a6b362ee-2b77-4edc-8091-d48c21b5e5ae"
      },
      "id": "HRMb3owxEVcN",
      "execution_count": 17,
      "outputs": [
        {
          "output_type": "stream",
          "name": "stdout",
          "text": [
            "+----------+----------+\n",
            "|product_id| productID|\n",
            "+----------+----------+\n",
            "|         1|7793224531|\n",
            "|         2|9966694242|\n",
            "|         3|9967222247|\n",
            "|         4|9985975413|\n",
            "|         5|9990950369|\n",
            "|         6|B000000O3J|\n",
            "|         7|B00000J025|\n",
            "|         8|B00000J0IV|\n",
            "|         9|B00000J1PX|\n",
            "|        10|B00000J3Q1|\n",
            "|        11|B00000J3SV|\n",
            "|        12|B00000J47G|\n",
            "|        13|B00000JBK6|\n",
            "|        14|B00001W0DC|\n",
            "|        15|B00002S73F|\n",
            "|        16|B00003CWGY|\n",
            "|        17|B00003OPEV|\n",
            "|        18|B00004SC3R|\n",
            "|        19|B00004TL5X|\n",
            "|        20|B00004U0EB|\n",
            "+----------+----------+\n",
            "only showing top 20 rows\n",
            "\n",
            "+-----------+--------------+\n",
            "|reviewer_id|    reviewerID|\n",
            "+-----------+--------------+\n",
            "|          1| AFS5ZGZ2M3ZGV|\n",
            "|          2|A18FTRFQQ141CP|\n",
            "|          3|A2GPNXFUUV51ZZ|\n",
            "|          4|A3GF7FD6065R2H|\n",
            "|          5|A16W4IDX9O70NU|\n",
            "|          6| A4035XND6J8CS|\n",
            "|          7|A15K7HV1XD6YWR|\n",
            "|          8|A3FZ6D8NP9775P|\n",
            "|          9| AA36DB7PNNJP2|\n",
            "|         10|A3PDGWYC08DXF4|\n",
            "|         11|A37JOONBIY5POU|\n",
            "|         12|A29XPB4YTMCH7N|\n",
            "|         13| AC8WXA642LUCJ|\n",
            "|         14|A2S7O09DKY30TH|\n",
            "|         15|A1G37NGYG23QG2|\n",
            "|         16|  A44UKZE6XEV9|\n",
            "|         17| AQJQP7RPKQGI9|\n",
            "|         18|A3BDHHIUI08PXH|\n",
            "|         19|A1LT2ILVBRDMN2|\n",
            "|         20|A3SAN0HBKL4O51|\n",
            "+-----------+--------------+\n",
            "only showing top 20 rows\n",
            "\n"
          ]
        },
        {
          "output_type": "execute_result",
          "data": {
            "text/plain": [
              "(None, None)"
            ]
          },
          "metadata": {},
          "execution_count": 17
        }
      ]
    },
    {
      "cell_type": "markdown",
      "id": "7d752082",
      "metadata": {
        "id": "7d752082"
      },
      "source": [
        "## Recommendation System"
      ]
    },
    {
      "cell_type": "markdown",
      "id": "a7b55cfc",
      "metadata": {
        "id": "a7b55cfc"
      },
      "source": [
        ""
      ]
    },
    {
      "cell_type": "code",
      "execution_count": null,
      "id": "0f090a1d",
      "metadata": {
        "id": "0f090a1d"
      },
      "outputs": [],
      "source": [
        ""
      ]
    },
    {
      "cell_type": "markdown",
      "id": "93faad59",
      "metadata": {
        "id": "93faad59"
      },
      "source": [
        "## Conclusions"
      ]
    },
    {
      "cell_type": "markdown",
      "source": [
        ""
      ],
      "metadata": {
        "id": "EIaEG1KJ9UOZ"
      },
      "id": "EIaEG1KJ9UOZ"
    },
    {
      "cell_type": "code",
      "execution_count": null,
      "id": "4f4f2191",
      "metadata": {
        "id": "4f4f2191"
      },
      "outputs": [],
      "source": [
        ""
      ]
    }
  ],
  "metadata": {
    "kernelspec": {
      "display_name": "Python 3 (ipykernel)",
      "language": "python",
      "name": "python3"
    },
    "language_info": {
      "codemirror_mode": {
        "name": "ipython",
        "version": 3
      },
      "file_extension": ".py",
      "mimetype": "text/x-python",
      "name": "python",
      "nbconvert_exporter": "python",
      "pygments_lexer": "ipython3",
      "version": "3.10.1"
    },
    "colab": {
      "name": "ProductRecommender.ipynb",
      "provenance": [],
      "collapsed_sections": []
    }
  },
  "nbformat": 4,
  "nbformat_minor": 5
}