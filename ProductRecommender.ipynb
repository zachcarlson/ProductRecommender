{
  "cells": [
    {
      "cell_type": "markdown",
      "id": "f256f67a",
      "metadata": {
        "id": "f256f67a"
      },
      "source": [
        "# Using PySpark to Create an Amazon Review Recommendation System \n",
        "\n"
      ]
    },
    {
      "cell_type": "markdown",
      "id": "dd22a959",
      "metadata": {
        "id": "dd22a959"
      },
      "source": [
        "This Jupyter Notebook contains code to create a recommendation system for Amazon user reviews on specific videos using PySpark.  It was created as a final project for the class INFO 607: Applied Database Technologies at Drexel University.  The data was downloaded from [here](https://jmcauley.ucsd.edu/data/amazon/).  \n",
        "\n",
        "Additional documentation on this project can be found at the Github repository [here](https://github.com/zachcarlson/ProductRecommender)."
      ]
    },
    {
      "cell_type": "markdown",
      "id": "5048aca6",
      "metadata": {
        "id": "5048aca6"
      },
      "source": [
        "## Configuration"
      ]
    },
    {
      "cell_type": "markdown",
      "id": "b1089410",
      "metadata": {
        "id": "b1089410"
      },
      "source": [
        "We recommend running this notebook in Google Colab using a local runtime and your GPU.  Here are [links](https://stackoverflow.com/questions/51002045/how-to-make-jupyter-notebook-to-run-on-gpu) to setting up this configuration:\n",
        "- [Local Runtime](https://research.google.com/colaboratory/local-runtimes.html)\n",
        "- [Utilizing GPU](https://medium.com/deep-learning-turkey/google-colab-free-gpu-tutorial-e113627b9f5d)\n",
        "\n",
        "Configure your input directory below:"
      ]
    },
    {
      "cell_type": "code",
      "execution_count": 1,
      "id": "3ZzpwWEZ5acF",
      "metadata": {
        "id": "3ZzpwWEZ5acF"
      },
      "outputs": [],
      "source": [
        "# INPUT_DIRECTORY = \"/content/drive/MyDrive/Grad School/INFO 607/ProductRecommender/data/\" #for google mount\n",
        "INPUT_DIRECTORY = \"ProductRecommender/data/\" #for jupyter notebook"
      ]
    },
    {
      "cell_type": "markdown",
      "id": "ebbb3f3b",
      "metadata": {
        "id": "ebbb3f3b"
      },
      "source": [
        "### Google Colab Hosted Runtime"
      ]
    },
    {
      "cell_type": "markdown",
      "source": [
        "**NOTE**: Due to the limited resources available for Google Colab's Free Tier, this notebook might not run for you if you are running it in Google Drive using a Hosted Runtime.  We recommend using a Google Colab Local Runtime.  However, if you have Colab Pro/Pro+, this notebook *might* work and you can uncomment the cells below to continue with that particular configuration."
      ],
      "metadata": {
        "id": "ip1AdpV11Bec"
      },
      "id": "ip1AdpV11Bec"
    },
    {
      "cell_type": "code",
      "execution_count": 2,
      "id": "df3783e3",
      "metadata": {
        "id": "df3783e3"
      },
      "outputs": [],
      "source": [
        "# from google.colab import drive\n",
        "# drive.mount('/content/drive')"
      ]
    },
    {
      "cell_type": "code",
      "source": [
        "# !pip install pyspark"
      ],
      "metadata": {
        "id": "BVCannEhoQbi"
      },
      "id": "BVCannEhoQbi",
      "execution_count": 3,
      "outputs": []
    },
    {
      "cell_type": "markdown",
      "id": "6e0Kq2iN512X",
      "metadata": {
        "id": "6e0Kq2iN512X"
      },
      "source": [
        "The cell below may take 1-2 minutes to execute:"
      ]
    },
    {
      "cell_type": "code",
      "execution_count": 4,
      "id": "XZYrDEpm5e7j",
      "metadata": {
        "id": "XZYrDEpm5e7j"
      },
      "outputs": [],
      "source": [
        "# %%capture \n",
        "# #prevent large printout with %%capture\n",
        "\n",
        "# #Download Java\n",
        "# !apt-get install openjdk-8-jdk-headless -qq > /dev/null\n",
        "\n",
        "# #Install Apache Spark 3.2.1 with Hadoop 3.2, get zipped folder\n",
        "# !wget -q https://dlcdn.apache.org/spark/spark-3.2.1/spark-3.2.1-bin-hadoop3.2.tgz\n",
        "\n",
        "# #Unzip folder\n",
        "# !tar xvf spark-3.2.1-bin-hadoop3.2.tgz\n",
        "\n",
        "# #Install findspark, pyspark 3.2.1\n",
        "# !pip install -q findspark\n",
        "# !pip install pyspark==3.2.1\n",
        "\n",
        "# #Set variables\n",
        "# import os\n",
        "# os.environ[\"JAVA_HOME\"] = \"/usr/lib/jvm/java-8-openjdk-amd64\"\n",
        "# os.environ[\"SPARK_HOME\"] = \"spark-3.2.1-bin-hadoop3.2\""
      ]
    },
    {
      "cell_type": "markdown",
      "id": "28d08603",
      "metadata": {
        "id": "28d08603"
      },
      "source": [
        "### Google Colab Local Runtime"
      ]
    },
    {
      "cell_type": "markdown",
      "id": "03bf38c8",
      "metadata": {
        "id": "03bf38c8"
      },
      "source": [
        "We recommend using a local Jupyter Notebook as it is much faster for a free user, however, it will require some additional configuration.  Follow this tutorial [here](https://changhsinlee.com/install-pyspark-windows-jupyter/).  "
      ]
    },
    {
      "cell_type": "code",
      "execution_count": 5,
      "id": "3b3ec07b",
      "metadata": {
        "id": "3b3ec07b"
      },
      "outputs": [],
      "source": [
        "import findspark\n",
        "findspark.init()"
      ]
    },
    {
      "cell_type": "markdown",
      "id": "tUNtTpW65jJR",
      "metadata": {
        "id": "tUNtTpW65jJR"
      },
      "source": [
        "## Load Packages and Functions"
      ]
    },
    {
      "cell_type": "code",
      "execution_count": 6,
      "id": "nduYfIam5na_",
      "metadata": {
        "id": "nduYfIam5na_"
      },
      "outputs": [],
      "source": [
        "import numpy as np\n",
        "import pandas as pd\n",
        "from pyspark import SparkContext\n",
        "from pyspark.ml.evaluation import RegressionEvaluator\n",
        "from pyspark.ml.recommendation import ALS\n",
        "from pyspark.ml.tuning import CrossValidator\n",
        "from pyspark.ml.tuning import ParamGridBuilder\n",
        "from pyspark.sql import SparkSession\n",
        "import pyspark.sql.functions as F\n",
        "from pyspark.sql.functions import monotonically_increasing_id\n",
        "import textwrap\n",
        "import warnings\n",
        "warnings.filterwarnings(\"ignore\")"
      ]
    },
    {
      "cell_type": "code",
      "source": [
        "import numpy as np\n",
        "import textwrap\n",
        "\n",
        "def get_formatted_columns(titles):\n",
        "  \"\"\"PURPOSE: Reformats a pandas df column with type string with newline inserts (\\n) \n",
        "  to ensure the length of each string is equal when printed on a figure.  \n",
        "  (Helps to evenly space labels)\n",
        "  \n",
        "  PARAMETERS:\n",
        "  ------------\n",
        "  titles : pandas Series or list\n",
        "      pandas column to reformat\"\"\" \n",
        "\n",
        "\n",
        "  mean_length = np.mean([len(i) for i in titles]) \n",
        "  titles = [\"\\n\".join(textwrap.wrap(i,mean_length)) for i in titles]\n",
        "  return titles"
      ],
      "metadata": {
        "id": "yIHSHQ1Xydu7"
      },
      "id": "yIHSHQ1Xydu7",
      "execution_count": 7,
      "outputs": []
    },
    {
      "cell_type": "markdown",
      "id": "e51316b1",
      "metadata": {
        "id": "e51316b1"
      },
      "source": [
        "## Data Acquisition, Preprocessing"
      ]
    },
    {
      "cell_type": "markdown",
      "id": "mC2aHr0-6PaF",
      "metadata": {
        "id": "mC2aHr0-6PaF"
      },
      "source": [
        "### Import Data"
      ]
    },
    {
      "cell_type": "code",
      "execution_count": 8,
      "id": "87cec9ff",
      "metadata": {
        "id": "87cec9ff"
      },
      "outputs": [],
      "source": [
        "#create SparkSession and SparkContext objects\n",
        "from pyspark import SparkContext\n",
        "from pyspark.sql import SparkSession\n",
        "\n",
        "spark = SparkSession.builder.getOrCreate()\n",
        "sc = SparkContext.getOrCreate()"
      ]
    },
    {
      "cell_type": "markdown",
      "source": [
        "You can either import the data locally using appropriate file organization or from the URL directly.  To import from URL uncomment the appropriate cell below:"
      ],
      "metadata": {
        "id": "Xp6RzKXIhGWv"
      },
      "id": "Xp6RzKXIhGWv"
    },
    {
      "cell_type": "code",
      "execution_count": 9,
      "id": "sn3IL-tG6VWb",
      "metadata": {
        "colab": {
          "base_uri": "https://localhost:8080/"
        },
        "id": "sn3IL-tG6VWb",
        "outputId": "db6f1587-5cca-4589-e737-ec2d14924022"
      },
      "outputs": [
        {
          "output_type": "stream",
          "name": "stdout",
          "text": [
            "+--------------+----------+---+----------+\n",
            "|           _c0|       _c1|_c2|       _c3|\n",
            "+--------------+----------+---+----------+\n",
            "|A1EE2E3N7PW666|B000GFDAUG|5.0|1202256000|\n",
            "| AGZ8SM1BGK3CK|B000GFDAUG|5.0|1198195200|\n",
            "|A2VHZ21245KBT7|B000GIOPK2|4.0|1215388800|\n",
            "| ACX8YW2D5EGP6|B000GIOPK2|4.0|1185840000|\n",
            "| A9RNMO9MUSMTJ|B000GIOPK2|2.0|1281052800|\n",
            "+--------------+----------+---+----------+\n",
            "only showing top 5 rows\n",
            "\n"
          ]
        }
      ],
      "source": [
        "#Import data via file\n",
        "file_path = INPUT_DIRECTORY + \"ratings_Amazon_Instant_Video.csv\"\n",
        "ratings = spark.read.csv(file_path, header=False, inferSchema=True)\n",
        "ratings.show(5)"
      ]
    },
    {
      "cell_type": "code",
      "source": [
        "#import data via URL \n",
        "\n",
        "#uncomment cells below to run this method\n",
        "##from pyspark import SparkFiles\n",
        "##url = \"http://snap.stanford.edu/data/amazon/productGraph/categoryFiles/ratings_Amazon_Instant_Video.csv\"\n",
        "##spark.sparkContext.addFile(url)\n",
        "##ratings = spark.read.csv(SparkFiles.get('ratings_Amazon_Instant_Video.csv'), header=False, inferSchema= True)"
      ],
      "metadata": {
        "id": "YrRmKx0_hPDj"
      },
      "id": "YrRmKx0_hPDj",
      "execution_count": 10,
      "outputs": []
    },
    {
      "cell_type": "code",
      "source": [
        "ratings_count = ratings.count()\n",
        "print(f\"{ratings_count:,d} Rows in dataset\")"
      ],
      "metadata": {
        "colab": {
          "base_uri": "https://localhost:8080/"
        },
        "id": "5DRKA4hFSkz0",
        "outputId": "1c7f9811-5cb1-473d-a8fb-a91ecad91c86"
      },
      "id": "5DRKA4hFSkz0",
      "execution_count": 11,
      "outputs": [
        {
          "output_type": "stream",
          "name": "stdout",
          "text": [
            "583,933 Rows in dataset\n"
          ]
        }
      ]
    },
    {
      "cell_type": "markdown",
      "source": [
        "### Pre-processing"
      ],
      "metadata": {
        "id": "nXo2hkRO7uHB"
      },
      "id": "nXo2hkRO7uHB"
    },
    {
      "cell_type": "markdown",
      "source": [
        "#### **Rename columns**"
      ],
      "metadata": {
        "id": "6vDAyS2L02rB"
      },
      "id": "6vDAyS2L02rB"
    },
    {
      "cell_type": "code",
      "execution_count": 12,
      "id": "Xa9-VFAt7zx-",
      "metadata": {
        "colab": {
          "base_uri": "https://localhost:8080/"
        },
        "id": "Xa9-VFAt7zx-",
        "outputId": "dedec623-9c8f-4879-fa08-6b2b926065a4"
      },
      "outputs": [
        {
          "output_type": "stream",
          "name": "stdout",
          "text": [
            "+--------------+----------+------+----------+\n",
            "|    reviewerID|   videoID|rating| timestamp|\n",
            "+--------------+----------+------+----------+\n",
            "|A1EE2E3N7PW666|B000GFDAUG|   5.0|1202256000|\n",
            "| AGZ8SM1BGK3CK|B000GFDAUG|   5.0|1198195200|\n",
            "|A2VHZ21245KBT7|B000GIOPK2|   4.0|1215388800|\n",
            "| ACX8YW2D5EGP6|B000GIOPK2|   4.0|1185840000|\n",
            "| A9RNMO9MUSMTJ|B000GIOPK2|   2.0|1281052800|\n",
            "+--------------+----------+------+----------+\n",
            "only showing top 5 rows\n",
            "\n"
          ]
        }
      ],
      "source": [
        "ratings = ratings.withColumnRenamed(\"_c0\", \"reviewerID\") \\\n",
        "                  .withColumnRenamed(\"_c1\", \"videoID\") \\\n",
        "                  .withColumnRenamed(\"_c2\", \"rating\") \\\n",
        "                  .withColumnRenamed(\"_c3\", \"timestamp\")\n",
        "ratings.show(5)"
      ]
    },
    {
      "cell_type": "code",
      "source": [
        "rev_count = ratings\\\n",
        "          .select(\"reviewerID\")\\\n",
        "          .distinct()\\\n",
        "          .count()\n",
        "\n",
        "print(f\"{rev_count:,d} Reviewers\")"
      ],
      "metadata": {
        "colab": {
          "base_uri": "https://localhost:8080/"
        },
        "id": "VHSPY1ISn5al",
        "outputId": "a90c7e4e-98ff-4ce6-e136-d09e15ba1b02"
      },
      "id": "VHSPY1ISn5al",
      "execution_count": 13,
      "outputs": [
        {
          "output_type": "stream",
          "name": "stdout",
          "text": [
            "426,922 Reviewers\n"
          ]
        }
      ]
    },
    {
      "cell_type": "code",
      "source": [
        "video_count = ratings\\\n",
        "          .select(\"videoID\")\\\n",
        "          .distinct()\\\n",
        "          .count()\n",
        "\n",
        "print(f\"{video_count:,d} Videos\")"
      ],
      "metadata": {
        "colab": {
          "base_uri": "https://localhost:8080/"
        },
        "id": "KVAKaUcqoAli",
        "outputId": "c3008959-5bf7-461e-f331-a57ce596a885"
      },
      "id": "KVAKaUcqoAli",
      "execution_count": 14,
      "outputs": [
        {
          "output_type": "stream",
          "name": "stdout",
          "text": [
            "23,965 Videos\n"
          ]
        }
      ]
    },
    {
      "cell_type": "markdown",
      "source": [
        "#### **Check datatypes**"
      ],
      "metadata": {
        "id": "dUx-xNCD04-K"
      },
      "id": "dUx-xNCD04-K"
    },
    {
      "cell_type": "code",
      "source": [
        "ratings.printSchema()"
      ],
      "metadata": {
        "colab": {
          "base_uri": "https://localhost:8080/"
        },
        "id": "zgSz974N9HLu",
        "outputId": "87cbbc50-459a-40d3-ac23-048a3913a008"
      },
      "id": "zgSz974N9HLu",
      "execution_count": 15,
      "outputs": [
        {
          "output_type": "stream",
          "name": "stdout",
          "text": [
            "root\n",
            " |-- reviewerID: string (nullable = true)\n",
            " |-- videoID: string (nullable = true)\n",
            " |-- rating: double (nullable = true)\n",
            " |-- timestamp: integer (nullable = true)\n",
            "\n"
          ]
        }
      ]
    },
    {
      "cell_type": "markdown",
      "source": [
        "We need `reviewerID` and `videoID` to be integers for the ALS algorithm.  We'll create separate tables for `reviewers` and `videos`.  At the end of the pre-processing section, we'll combine the tables."
      ],
      "metadata": {
        "id": "_hFUXEKb9AFK"
      },
      "id": "_hFUXEKb9AFK"
    },
    {
      "cell_type": "code",
      "source": [
        "from pyspark.sql.functions import monotonically_increasing_id\n",
        "\n",
        "reviewers = ratings.select(\"reviewerID\").distinct().coalesce(1)\n",
        "reviewers.show(5)"
      ],
      "metadata": {
        "colab": {
          "base_uri": "https://localhost:8080/"
        },
        "id": "DIr62vv_9D0f",
        "outputId": "5c140d96-0557-45b9-cd7b-c1ddc2d9c9fd"
      },
      "id": "DIr62vv_9D0f",
      "execution_count": 16,
      "outputs": [
        {
          "output_type": "stream",
          "name": "stdout",
          "text": [
            "+--------------+\n",
            "|    reviewerID|\n",
            "+--------------+\n",
            "|A3FF40QHATHVK0|\n",
            "|A2OYUAR8I1QT2O|\n",
            "|A28DPR143MALN7|\n",
            "|A1RNJ6Q36443HL|\n",
            "| A2YJL1MX3J4OK|\n",
            "+--------------+\n",
            "only showing top 5 rows\n",
            "\n"
          ]
        }
      ]
    },
    {
      "cell_type": "code",
      "source": [
        "reviewers = reviewers.withColumn(\"userID\", monotonically_increasing_id()).persist()\n",
        "reviewers.show(5)"
      ],
      "metadata": {
        "colab": {
          "base_uri": "https://localhost:8080/"
        },
        "id": "-Yzs6NoH-CTQ",
        "outputId": "883a746b-b4d4-4d61-fb6b-98642873f2f7"
      },
      "id": "-Yzs6NoH-CTQ",
      "execution_count": 17,
      "outputs": [
        {
          "output_type": "stream",
          "name": "stdout",
          "text": [
            "+--------------+------+\n",
            "|    reviewerID|userID|\n",
            "+--------------+------+\n",
            "|A3FF40QHATHVK0|     0|\n",
            "|A2OYUAR8I1QT2O|     1|\n",
            "|A28DPR143MALN7|     2|\n",
            "|A1RNJ6Q36443HL|     3|\n",
            "| A2YJL1MX3J4OK|     4|\n",
            "+--------------+------+\n",
            "only showing top 5 rows\n",
            "\n"
          ]
        }
      ]
    },
    {
      "cell_type": "code",
      "source": [
        "videos = ratings.select(\"videoID\").distinct().coalesce(1)\n",
        "videos = videos.withColumn(\"video_ID\", monotonically_increasing_id()).persist()\n",
        "videos.show(5)"
      ],
      "metadata": {
        "colab": {
          "base_uri": "https://localhost:8080/"
        },
        "id": "4G8xjDyV-Yqm",
        "outputId": "a2bcfa97-338e-409a-afc6-ae594f5a2a86"
      },
      "id": "4G8xjDyV-Yqm",
      "execution_count": 18,
      "outputs": [
        {
          "output_type": "stream",
          "name": "stdout",
          "text": [
            "+----------+--------+\n",
            "|   videoID|video_ID|\n",
            "+----------+--------+\n",
            "|B000OC3FZQ|       0|\n",
            "|B000P41FAA|       1|\n",
            "|B000RKQEQW|       2|\n",
            "|B000TS73MG|       3|\n",
            "|B000U5IH7I|       4|\n",
            "+----------+--------+\n",
            "only showing top 5 rows\n",
            "\n"
          ]
        }
      ]
    },
    {
      "cell_type": "markdown",
      "source": [
        "#### Duplicate Ratings"
      ],
      "metadata": {
        "id": "vwbkFBV9yRGB"
      },
      "id": "vwbkFBV9yRGB"
    },
    {
      "cell_type": "code",
      "source": [
        "ratings\\\n",
        ".groupby(\"reviewerID\", \"videoID\")\\\n",
        ".count()\\\n",
        ".select(F.max(\"count\"))\\\n",
        ".show()"
      ],
      "metadata": {
        "colab": {
          "base_uri": "https://localhost:8080/"
        },
        "id": "4aOE5dlq1E6z",
        "outputId": "1c027c94-9103-48dc-e1ef-68f60a915334"
      },
      "id": "4aOE5dlq1E6z",
      "execution_count": 19,
      "outputs": [
        {
          "output_type": "stream",
          "name": "stdout",
          "text": [
            "+----------+\n",
            "|max(count)|\n",
            "+----------+\n",
            "|         1|\n",
            "+----------+\n",
            "\n"
          ]
        }
      ]
    },
    {
      "cell_type": "markdown",
      "source": [
        "Each user has only one rating per product, thus filtering based on `timestamp` is not needed.  We will keep the timestamp for EDA purposes and to allow for future filtering if the dataset contains multiple ratings for a given user for  a given product."
      ],
      "metadata": {
        "id": "AMDG2mq21N1n"
      },
      "id": "AMDG2mq21N1n"
    },
    {
      "cell_type": "markdown",
      "source": [
        "### Join tables"
      ],
      "metadata": {
        "id": "7z12Kz8y1dYA"
      },
      "id": "7z12Kz8y1dYA"
    },
    {
      "cell_type": "code",
      "source": [
        "#Join ratings table with new integer IDs for videos and reviewers\n",
        "video_ratings = ratings.join(reviewers, on=\"reviewerID\", how=\"left\")\n",
        "video_ratings = video_ratings.join(videos, on=\"videoID\", how=\"left\")\n",
        "\n",
        "#select just integer IDs, rating and timestamp\n",
        "video_ratings = video_ratings.select(\"userID\", \"video_ID\", \"rating\", \"timestamp\")\n",
        "video_ratings.show(5)"
      ],
      "metadata": {
        "colab": {
          "base_uri": "https://localhost:8080/"
        },
        "id": "sC_VpLN91oRj",
        "outputId": "d705a831-6e3b-47cd-b10d-af0ef08fa535"
      },
      "id": "sC_VpLN91oRj",
      "execution_count": 20,
      "outputs": [
        {
          "output_type": "stream",
          "name": "stdout",
          "text": [
            "+------+--------+------+----------+\n",
            "|userID|video_ID|rating| timestamp|\n",
            "+------+--------+------+----------+\n",
            "| 37123|   19744|   5.0|1335657600|\n",
            "| 34132|    9656|   2.0|1281052800|\n",
            "| 33769|   18813|   5.0|1390435200|\n",
            "| 83756|    9448|   5.0|1363824000|\n",
            "| 63197|    8851|   5.0|1383696000|\n",
            "+------+--------+------+----------+\n",
            "only showing top 5 rows\n",
            "\n"
          ]
        }
      ]
    },
    {
      "cell_type": "code",
      "source": [
        "#rename columns for readability\n",
        "video_ratings = video_ratings.withColumnRenamed(\"userID\", \"reviewerID\")\n",
        "video_ratings = video_ratings.withColumnRenamed(\"video_ID\", \"videoID\")\n",
        "video_ratings.show(5)"
      ],
      "metadata": {
        "colab": {
          "base_uri": "https://localhost:8080/"
        },
        "id": "wh7p5Zpl2-0k",
        "outputId": "b1c392e4-70dc-4ffc-a2fd-5ee5e360bd8a"
      },
      "id": "wh7p5Zpl2-0k",
      "execution_count": 21,
      "outputs": [
        {
          "output_type": "stream",
          "name": "stdout",
          "text": [
            "+----------+-------+------+----------+\n",
            "|reviewerID|videoID|rating| timestamp|\n",
            "+----------+-------+------+----------+\n",
            "|     37123|  19744|   5.0|1335657600|\n",
            "|     34132|   9656|   2.0|1281052800|\n",
            "|     33769|  18813|   5.0|1390435200|\n",
            "|     83756|   9448|   5.0|1363824000|\n",
            "|     63197|   8851|   5.0|1383696000|\n",
            "+----------+-------+------+----------+\n",
            "only showing top 5 rows\n",
            "\n"
          ]
        }
      ]
    },
    {
      "cell_type": "markdown",
      "id": "b869102f",
      "metadata": {
        "id": "b869102f"
      },
      "source": [
        "## EDA"
      ]
    },
    {
      "cell_type": "markdown",
      "source": [
        "Describe the dataset:"
      ],
      "metadata": {
        "id": "uuH66XLzK39h"
      },
      "id": "uuH66XLzK39h"
    },
    {
      "cell_type": "code",
      "source": [
        "video_ratings.select(\"rating\").describe().show()"
      ],
      "metadata": {
        "id": "cH1uhnKVK5Wn",
        "colab": {
          "base_uri": "https://localhost:8080/"
        },
        "outputId": "64b39978-2cdf-4216-972f-3957a5419135"
      },
      "id": "cH1uhnKVK5Wn",
      "execution_count": 22,
      "outputs": [
        {
          "output_type": "stream",
          "name": "stdout",
          "text": [
            "+-------+------------------+\n",
            "|summary|            rating|\n",
            "+-------+------------------+\n",
            "|  count|            583933|\n",
            "|   mean| 4.316185247280082|\n",
            "| stddev|1.1637059130358245|\n",
            "|    min|               1.0|\n",
            "|    max|               5.0|\n",
            "+-------+------------------+\n",
            "\n"
          ]
        }
      ]
    },
    {
      "cell_type": "markdown",
      "source": [
        "The ratings range from 1-5, with the mean being 4.32"
      ],
      "metadata": {
        "id": "g2WmVlEyLCx_"
      },
      "id": "g2WmVlEyLCx_"
    },
    {
      "cell_type": "markdown",
      "id": "38e6d39b",
      "metadata": {
        "id": "38e6d39b"
      },
      "source": [
        "Find reviewers with the most ratings:"
      ]
    },
    {
      "cell_type": "code",
      "execution_count": 23,
      "id": "0d45b814",
      "metadata": {
        "colab": {
          "base_uri": "https://localhost:8080/"
        },
        "id": "0d45b814",
        "outputId": "f448a488-2136-4a95-8a06-a3a575decc13"
      },
      "outputs": [
        {
          "output_type": "stream",
          "name": "stdout",
          "text": [
            "+----------+-----+\n",
            "|reviewerID|count|\n",
            "+----------+-----+\n",
            "|    314359|  277|\n",
            "|    320548|  240|\n",
            "|    384298|  212|\n",
            "|    173088|  142|\n",
            "|    115356|  125|\n",
            "+----------+-----+\n",
            "only showing top 5 rows\n",
            "\n"
          ]
        }
      ],
      "source": [
        "video_ratings\\\n",
        "        .select(\"reviewerID\", \"rating\")\\\n",
        "        .groupby(\"reviewerID\")\\\n",
        "        .count()\\\n",
        "        .sort(\"count\", ascending = False)\\\n",
        "        .show(5)"
      ]
    },
    {
      "cell_type": "markdown",
      "source": [
        "No missing data"
      ],
      "metadata": {
        "id": "rr9rd7z2uQ0h"
      },
      "id": "rr9rd7z2uQ0h"
    },
    {
      "cell_type": "code",
      "source": [
        "video_ratings\\\n",
        "        .where(\n",
        "                F.col(\"reviewerID\").isNull() |\\\n",
        "                F.col(\"videoID\").isNull() |\\\n",
        "                F.col(\"rating\").isNull()\n",
        "              )\\\n",
        "        .count()"
      ],
      "metadata": {
        "colab": {
          "base_uri": "https://localhost:8080/"
        },
        "id": "iiYitN0vtM61",
        "outputId": "42877fef-4918-4d42-b009-fca380cd8030"
      },
      "id": "iiYitN0vtM61",
      "execution_count": 24,
      "outputs": [
        {
          "output_type": "execute_result",
          "data": {
            "text/plain": [
              "0"
            ]
          },
          "metadata": {},
          "execution_count": 24
        }
      ]
    },
    {
      "cell_type": "markdown",
      "id": "cIVvJVai9eEB",
      "metadata": {
        "id": "cIVvJVai9eEB"
      },
      "source": [
        "Find videos with the most ratings:"
      ]
    },
    {
      "cell_type": "code",
      "execution_count": 25,
      "id": "IEgKLq4H8vzo",
      "metadata": {
        "colab": {
          "base_uri": "https://localhost:8080/"
        },
        "id": "IEgKLq4H8vzo",
        "outputId": "99f2b00d-5c4c-4128-f1f8-fd10bcb5ad25"
      },
      "outputs": [
        {
          "output_type": "stream",
          "name": "stdout",
          "text": [
            "+-------+-----+\n",
            "|videoID|count|\n",
            "+-------+-----+\n",
            "|    452|12633|\n",
            "|  15400|10938|\n",
            "|   3875|10226|\n",
            "|  23936| 8676|\n",
            "|  20401| 6927|\n",
            "+-------+-----+\n",
            "only showing top 5 rows\n",
            "\n"
          ]
        }
      ],
      "source": [
        "video_ratings\\\n",
        "        .select(\"videoID\", \"rating\")\\\n",
        "        .groupby(\"videoID\")\\\n",
        "        .count()\\\n",
        "        .sort(\"count\", ascending = False)\\\n",
        "        .show(5)"
      ]
    },
    {
      "cell_type": "markdown",
      "id": "XUe7ew_wAs3Y",
      "metadata": {
        "id": "XUe7ew_wAs3Y"
      },
      "source": [
        "Count and average ratings for each video"
      ]
    },
    {
      "cell_type": "markdown",
      "source": [
        "### Top 5 Videos"
      ],
      "metadata": {
        "id": "HQ7IHRbZvZN5"
      },
      "id": "HQ7IHRbZvZN5"
    },
    {
      "cell_type": "code",
      "execution_count": 26,
      "id": "VMYUPMA69uge",
      "metadata": {
        "id": "VMYUPMA69uge",
        "colab": {
          "base_uri": "https://localhost:8080/"
        },
        "outputId": "a5971ecd-f69e-403a-943e-d5fe275a1816"
      },
      "outputs": [
        {
          "output_type": "stream",
          "name": "stdout",
          "text": [
            "+-------+-----+-------+\n",
            "|videoID|Count|Average|\n",
            "+-------+-----+-------+\n",
            "|  13490|   41|    5.0|\n",
            "|   9406|   22|    5.0|\n",
            "|  19381|   20|    5.0|\n",
            "|   4990|   19|    5.0|\n",
            "|  13295|   18|    5.0|\n",
            "+-------+-----+-------+\n",
            "only showing top 5 rows\n",
            "\n"
          ]
        }
      ],
      "source": [
        "avg_ratings = (video_ratings\n",
        "                .select(\"videoID\", \"rating\")                          # Select Columns\n",
        "                .groupby(\"videoID\")                                   # Group by videoID\n",
        "                .agg(                           \n",
        "                     F.count(\"rating\").alias(\"Count\"),                  # Count number of ratings\n",
        "                     F.avg(\"rating\").alias(\"Average\")                   # Average ratings for each video\n",
        "                     )\n",
        "                .sort(\"Average\", \"Count\", ascending = [False, False])   # Sort results by average and count\n",
        "               )\n",
        "avg_ratings.show(5)"
      ]
    },
    {
      "cell_type": "markdown",
      "source": [
        "Show highly rated videos with the most ratings:"
      ],
      "metadata": {
        "id": "zaIGig3HWFIF"
      },
      "id": "zaIGig3HWFIF"
    },
    {
      "cell_type": "code",
      "source": [
        "high_ratings = (video_ratings\n",
        "                .select(\"videoID\", \"rating\")                          # Select Columns\n",
        "                .groupby(\"videoID\")                                   # Group by videoID\n",
        "                .agg(                           \n",
        "                     F.count(\"rating\").alias(\"Count\"),                  # Count number of ratings\n",
        "                     F.avg(\"rating\").alias(\"Average\")                   # Average ratings for each video\n",
        "                     )\n",
        "                .sort(\"Count\",  ascending =  False)                   # Sort results by count\n",
        "               )\n",
        "high_ratings.where(F.col(\"Average\")> 4.8).show(10)"
      ],
      "metadata": {
        "id": "OAk9rbXFY51Q",
        "colab": {
          "base_uri": "https://localhost:8080/"
        },
        "outputId": "08b204c2-cc75-4abb-eb37-754df716b686"
      },
      "id": "OAk9rbXFY51Q",
      "execution_count": 27,
      "outputs": [
        {
          "output_type": "stream",
          "name": "stdout",
          "text": [
            "+-------+-----+-----------------+\n",
            "|videoID|Count|          Average|\n",
            "+-------+-----+-----------------+\n",
            "|  20401| 6927|4.857947163274145|\n",
            "|   5132| 4501|4.808487002888247|\n",
            "|   3168| 3286|4.804930006086427|\n",
            "|    425| 1401|4.844396859386153|\n",
            "|   1929| 1309|4.881588999236058|\n",
            "|  11515| 1191|4.812762384550798|\n",
            "|    398| 1132|4.845406360424028|\n",
            "|   8026| 1067|4.878163074039363|\n",
            "|  16837|  961|4.855359001040583|\n",
            "|  21580|  818|4.815403422982885|\n",
            "+-------+-----+-----------------+\n",
            "only showing top 10 rows\n",
            "\n"
          ]
        }
      ]
    },
    {
      "cell_type": "markdown",
      "source": [
        "### Low Rating Videos"
      ],
      "metadata": {
        "id": "CbckuPEWvqYr"
      },
      "id": "CbckuPEWvqYr"
    },
    {
      "cell_type": "code",
      "execution_count": 28,
      "id": "1KsHMVZ0ww0Q",
      "metadata": {
        "colab": {
          "base_uri": "https://localhost:8080/"
        },
        "id": "1KsHMVZ0ww0Q",
        "outputId": "ba550f72-d233-41f7-8309-a2fe63739ea2"
      },
      "outputs": [
        {
          "output_type": "stream",
          "name": "stdout",
          "text": [
            "+-------+-----+------------------+\n",
            "|videoID|Count|           Average|\n",
            "+-------+-----+------------------+\n",
            "|  15484|   49|1.9795918367346939|\n",
            "|  10601|   27| 1.962962962962963|\n",
            "|  14583|   18|1.9444444444444444|\n",
            "|  15959|   15|1.9333333333333333|\n",
            "|  20019|   15|1.9333333333333333|\n",
            "+-------+-----+------------------+\n",
            "only showing top 5 rows\n",
            "\n",
            "Number of distinct videos: 23,965\n",
            "Number of videos with low average (less than 2): 2,124\n",
            "% low ratings: 8.86\n"
          ]
        }
      ],
      "source": [
        "# Filter videos by their average ratings\n",
        "low_avg_rating = avg_ratings.filter(avg_ratings.Average < 2)\n",
        "low_avg_rating.show(5)\n",
        "\n",
        "# Count number of videos with low ratings\n",
        "lar_count = low_avg_rating.count()\n",
        "\n",
        "# Print statistics\n",
        "print(f\"Number of distinct videos: {video_count :,d}\")\n",
        "print(f\"Number of videos with low average (less than 2): {lar_count :,d}\")\n",
        "print(f\"% low ratings: {lar_count / video_count * 100 :,.2f}\")\n"
      ]
    },
    {
      "cell_type": "markdown",
      "id": "gXZM8yPDzsfI",
      "metadata": {
        "id": "gXZM8yPDzsfI"
      },
      "source": [
        "The precentage of low rating (less than 2) videos is low (8.9%). "
      ]
    },
    {
      "cell_type": "markdown",
      "source": [
        "### Time Plot"
      ],
      "metadata": {
        "id": "6ofS6qXQtseS"
      },
      "id": "6ofS6qXQtseS"
    },
    {
      "cell_type": "code",
      "source": [
        "import pyspark.sql.functions as F\n",
        "from pyspark.sql.types import TimestampType\n",
        "\n",
        "video_ratings = video_ratings.withColumn(\"timestamp\", F.from_unixtime(\"timestamp\"))\n",
        "video_ratings.show(5)"
      ],
      "metadata": {
        "colab": {
          "base_uri": "https://localhost:8080/"
        },
        "id": "-7RCks5gvZ7I",
        "outputId": "31474c50-04f8-47af-ddb1-388cdc36eb4e"
      },
      "id": "-7RCks5gvZ7I",
      "execution_count": 29,
      "outputs": [
        {
          "output_type": "stream",
          "name": "stdout",
          "text": [
            "+----------+-------+------+-------------------+\n",
            "|reviewerID|videoID|rating|          timestamp|\n",
            "+----------+-------+------+-------------------+\n",
            "|     37123|  19744|   5.0|2012-04-28 20:00:00|\n",
            "|     34132|   9656|   2.0|2010-08-05 20:00:00|\n",
            "|     33769|  18813|   5.0|2014-01-22 19:00:00|\n",
            "|     83756|   9448|   5.0|2013-03-20 20:00:00|\n",
            "|     63197|   8851|   5.0|2013-11-05 19:00:00|\n",
            "+----------+-------+------+-------------------+\n",
            "only showing top 5 rows\n",
            "\n"
          ]
        }
      ]
    },
    {
      "cell_type": "code",
      "source": [
        "video_ratings.select(F.min(\"timestamp\")).show()"
      ],
      "metadata": {
        "colab": {
          "base_uri": "https://localhost:8080/"
        },
        "id": "f6E1WyNNvetZ",
        "outputId": "35f0dd68-977a-42f0-fc1f-f0f22a4c774b"
      },
      "id": "f6E1WyNNvetZ",
      "execution_count": 30,
      "outputs": [
        {
          "output_type": "stream",
          "name": "stdout",
          "text": [
            "+-------------------+\n",
            "|     min(timestamp)|\n",
            "+-------------------+\n",
            "|1999-08-23 20:00:00|\n",
            "+-------------------+\n",
            "\n"
          ]
        }
      ]
    },
    {
      "cell_type": "code",
      "source": [
        "video_ratings.select(F.max(\"timestamp\")).show()"
      ],
      "metadata": {
        "colab": {
          "base_uri": "https://localhost:8080/"
        },
        "id": "7BUmjtpvvqhO",
        "outputId": "a9cfb282-a598-4b54-e028-71562abbd5d9"
      },
      "id": "7BUmjtpvvqhO",
      "execution_count": 31,
      "outputs": [
        {
          "output_type": "stream",
          "name": "stdout",
          "text": [
            "+-------------------+\n",
            "|     max(timestamp)|\n",
            "+-------------------+\n",
            "|2014-07-22 20:00:00|\n",
            "+-------------------+\n",
            "\n"
          ]
        }
      ]
    },
    {
      "cell_type": "code",
      "source": [
        "pandas_video_ratings = video_ratings.toPandas() #convert pyspark df to pandas df\n",
        "pandas_video_ratings['timestamp'] = pd.to_datetime(pandas_video_ratings[\"timestamp\"])\n",
        "pandas_video_ratings[\"year\"] = pandas_video_ratings[\"timestamp\"].dt.year\n",
        "pandas_video_ratings.head()"
      ],
      "metadata": {
        "colab": {
          "base_uri": "https://localhost:8080/",
          "height": 206
        },
        "id": "KCnHkBekxAgD",
        "outputId": "4c633668-c398-41e3-bfcb-c83effcae8b2"
      },
      "id": "KCnHkBekxAgD",
      "execution_count": 32,
      "outputs": [
        {
          "output_type": "execute_result",
          "data": {
            "text/plain": [
              "   reviewerID  videoID  rating           timestamp  year\n",
              "0       31850     4685     4.0 2014-02-23 19:00:00  2014\n",
              "1       20690     6119     5.0 2013-04-18 20:00:00  2013\n",
              "2       31491      452     5.0 2014-04-28 20:00:00  2014\n",
              "3        6720    20210     5.0 2014-02-09 19:00:00  2014\n",
              "4        6720     4685     5.0 2014-02-09 19:00:00  2014"
            ],
            "text/html": [
              "<div>\n",
              "<style scoped>\n",
              "    .dataframe tbody tr th:only-of-type {\n",
              "        vertical-align: middle;\n",
              "    }\n",
              "\n",
              "    .dataframe tbody tr th {\n",
              "        vertical-align: top;\n",
              "    }\n",
              "\n",
              "    .dataframe thead th {\n",
              "        text-align: right;\n",
              "    }\n",
              "</style>\n",
              "<table border=\"1\" class=\"dataframe\">\n",
              "  <thead>\n",
              "    <tr style=\"text-align: right;\">\n",
              "      <th></th>\n",
              "      <th>reviewerID</th>\n",
              "      <th>videoID</th>\n",
              "      <th>rating</th>\n",
              "      <th>timestamp</th>\n",
              "      <th>year</th>\n",
              "    </tr>\n",
              "  </thead>\n",
              "  <tbody>\n",
              "    <tr>\n",
              "      <th>0</th>\n",
              "      <td>31850</td>\n",
              "      <td>4685</td>\n",
              "      <td>4.0</td>\n",
              "      <td>2014-02-23 19:00:00</td>\n",
              "      <td>2014</td>\n",
              "    </tr>\n",
              "    <tr>\n",
              "      <th>1</th>\n",
              "      <td>20690</td>\n",
              "      <td>6119</td>\n",
              "      <td>5.0</td>\n",
              "      <td>2013-04-18 20:00:00</td>\n",
              "      <td>2013</td>\n",
              "    </tr>\n",
              "    <tr>\n",
              "      <th>2</th>\n",
              "      <td>31491</td>\n",
              "      <td>452</td>\n",
              "      <td>5.0</td>\n",
              "      <td>2014-04-28 20:00:00</td>\n",
              "      <td>2014</td>\n",
              "    </tr>\n",
              "    <tr>\n",
              "      <th>3</th>\n",
              "      <td>6720</td>\n",
              "      <td>20210</td>\n",
              "      <td>5.0</td>\n",
              "      <td>2014-02-09 19:00:00</td>\n",
              "      <td>2014</td>\n",
              "    </tr>\n",
              "    <tr>\n",
              "      <th>4</th>\n",
              "      <td>6720</td>\n",
              "      <td>4685</td>\n",
              "      <td>5.0</td>\n",
              "      <td>2014-02-09 19:00:00</td>\n",
              "      <td>2014</td>\n",
              "    </tr>\n",
              "  </tbody>\n",
              "</table>\n",
              "</div>"
            ]
          },
          "metadata": {},
          "execution_count": 32
        }
      ]
    },
    {
      "cell_type": "code",
      "source": [
        "pandas_video_ratings.info()"
      ],
      "metadata": {
        "colab": {
          "base_uri": "https://localhost:8080/"
        },
        "id": "rlhtbJSwx-gs",
        "outputId": "d867b920-c8d1-4ea7-8f61-d31239c0d2b9"
      },
      "id": "rlhtbJSwx-gs",
      "execution_count": 33,
      "outputs": [
        {
          "output_type": "stream",
          "name": "stdout",
          "text": [
            "<class 'pandas.core.frame.DataFrame'>\n",
            "RangeIndex: 583933 entries, 0 to 583932\n",
            "Data columns (total 5 columns):\n",
            " #   Column      Non-Null Count   Dtype         \n",
            "---  ------      --------------   -----         \n",
            " 0   reviewerID  583933 non-null  int64         \n",
            " 1   videoID     583933 non-null  int64         \n",
            " 2   rating      583933 non-null  float64       \n",
            " 3   timestamp   583933 non-null  datetime64[ns]\n",
            " 4   year        583933 non-null  int64         \n",
            "dtypes: datetime64[ns](1), float64(1), int64(3)\n",
            "memory usage: 22.3 MB\n"
          ]
        }
      ]
    },
    {
      "cell_type": "code",
      "source": [
        "import matplotlib.pyplot as plt\n",
        "\n",
        "#group by year and count num of ratings\n",
        "pandas_video_ratings_by_year = pandas_video_ratings.groupby(\"year\").count()[[\"rating\"]]\n",
        "\n",
        "fig, ax = plt.subplots()\n",
        "ax.bar(pandas_video_ratings_by_year.index, pandas_video_ratings_by_year[\"rating\"])\n",
        "\n",
        "#customize appearance\n",
        "fig.set_size_inches([10, 7])\n",
        "ax.set_title(\"Number of Ratings Per Year\")\n",
        "ax.set_xlabel(\"Year\")\n",
        "ax.set_ylabel(\"Num of Ratings\")\n",
        "plt.show()"
      ],
      "metadata": {
        "colab": {
          "base_uri": "https://localhost:8080/",
          "height": 458
        },
        "id": "IBSPQeGAyJJa",
        "outputId": "f722442d-3853-4d9d-a5a6-7974d1acb94a"
      },
      "id": "IBSPQeGAyJJa",
      "execution_count": 34,
      "outputs": [
        {
          "output_type": "display_data",
          "data": {
            "text/plain": [
              "<Figure size 720x504 with 1 Axes>"
            ],
            "image/png": "[encoded data removed]"
          },
          "metadata": {
            "needs_background": "light"
          }
        }
      ]
    },
    {
      "cell_type": "markdown",
      "source": [
        "### Top 5 Videos - Manually Entered Names"
      ],
      "metadata": {
        "id": "4nTTF_lCt6Sg"
      },
      "id": "4nTTF_lCt6Sg"
    },
    {
      "cell_type": "markdown",
      "source": [
        "Towards the end of our project, we found we could identify the name of a product by entering it into Amazon using the following format:\n",
        "```https://amazon.com/dp/#####``` where `#####` is the product ID. \n",
        "\n",
        "Knowing this, one would think it wouldn't be difficult to use web scrapping to grab the product name from the HTML.  However, Amazon will block any URL calls that are outside of its API.  Because the project is due so soon, we will not focus on trying to work with Amazon's API, but that would be a great next step to improve this project in the future.\n",
        "\n",
        "Instead, we manually found the names of the 20 most popular videos from `high_ratings` (which contained only videos with an average rating > 4.8), and saved it as `video_names.csv`.  We'll import it and use it to create a final EDA figure:"
      ],
      "metadata": {
        "id": "uqc8wTaUuAt6"
      },
      "id": "uqc8wTaUuAt6"
    },
    {
      "cell_type": "code",
      "source": [
        "file_path = INPUT_DIRECTORY + \"video_names.csv\"\n",
        "video_names = spark.read.csv(file_path, header=True, inferSchema=True)\n",
        "video_names.show(5)\n",
        "ratings.show(5)"
      ],
      "metadata": {
        "colab": {
          "base_uri": "https://localhost:8080/"
        },
        "id": "IWV7fbZ0u889",
        "outputId": "7736e8f2-4d78-4c28-d89a-8a813f9be6a9"
      },
      "id": "IWV7fbZ0u889",
      "execution_count": 35,
      "outputs": [
        {
          "output_type": "stream",
          "name": "stdout",
          "text": [
            "+----------+--------------------+\n",
            "|   videoID|           videoName|\n",
            "+----------+--------------------+\n",
            "|B000JO9JHW|    Dexter, Season 1|\n",
            "|B000HAB4NK|            24, S. 5|\n",
            "|B000I9TWV6|Dora the Explorer...|\n",
            "|B000I9S5BE|   Blue's Clues, S.1|\n",
            "|B000H4YNM0|It's Always Sunny...|\n",
            "+----------+--------------------+\n",
            "only showing top 5 rows\n",
            "\n",
            "+--------------+----------+------+----------+\n",
            "|    reviewerID|   videoID|rating| timestamp|\n",
            "+--------------+----------+------+----------+\n",
            "|A1EE2E3N7PW666|B000GFDAUG|   5.0|1202256000|\n",
            "| AGZ8SM1BGK3CK|B000GFDAUG|   5.0|1198195200|\n",
            "|A2VHZ21245KBT7|B000GIOPK2|   4.0|1215388800|\n",
            "| ACX8YW2D5EGP6|B000GIOPK2|   4.0|1185840000|\n",
            "| A9RNMO9MUSMTJ|B000GIOPK2|   2.0|1281052800|\n",
            "+--------------+----------+------+----------+\n",
            "only showing top 5 rows\n",
            "\n"
          ]
        }
      ]
    },
    {
      "cell_type": "code",
      "source": [
        "video_name_ratings = video_names.join(ratings, on=\"videoID\", how=\"left\")\n",
        "video_name_ratings.show(5)"
      ],
      "metadata": {
        "colab": {
          "base_uri": "https://localhost:8080/"
        },
        "id": "gPvc-XDywOYD",
        "outputId": "2dc54c9e-3979-454a-a1e1-e1218f72564c"
      },
      "id": "gPvc-XDywOYD",
      "execution_count": 36,
      "outputs": [
        {
          "output_type": "stream",
          "name": "stdout",
          "text": [
            "+----------+-----------------+--------------+------+----------+\n",
            "|   videoID|        videoName|    reviewerID|rating| timestamp|\n",
            "+----------+-----------------+--------------+------+----------+\n",
            "|B000I9S5BE|Blue's Clues, S.1|A14TFR5FSQ7DDT|   5.0|1383868800|\n",
            "|B000I9S5BE|Blue's Clues, S.1| A9O8AESEAW4SQ|   5.0|1360454400|\n",
            "|B000I9S5BE|Blue's Clues, S.1| ATQBC3BLGN6HK|   5.0|1389139200|\n",
            "|B000I9S5BE|Blue's Clues, S.1|A1C2XC3FBEZFIW|   4.0|1367107200|\n",
            "|B000I9S5BE|Blue's Clues, S.1|A20SRKJWLZX6SE|   5.0|1395273600|\n",
            "+----------+-----------------+--------------+------+----------+\n",
            "only showing top 5 rows\n",
            "\n"
          ]
        }
      ]
    },
    {
      "cell_type": "code",
      "source": [
        "#convert pyspark to pandas\n",
        "pandas_video_name_ratings = video_name_ratings.toPandas()\n",
        "\n",
        "#count number of ratings per video, sort in descending order\n",
        "pandas_video_name_ratings = pandas_video_name_ratings.groupby(\"videoName\") \\\n",
        "  .count().sort_values(\"rating\", ascending=False)[[\"rating\"]]\n",
        "pandas_video_name_ratings.head()"
      ],
      "metadata": {
        "colab": {
          "base_uri": "https://localhost:8080/",
          "height": 238
        },
        "id": "BoeKSHBfwoWr",
        "outputId": "cb220501-d882-4c47-d156-ba7dd4c81edd"
      },
      "id": "BoeKSHBfwoWr",
      "execution_count": 37,
      "outputs": [
        {
          "output_type": "execute_result",
          "data": {
            "text/plain": [
              "                      rating\n",
              "videoName                   \n",
              "Under the Dome, S. 1   12633\n",
              "BOSCH, S. 1            10938\n",
              "The After, S. 1        10226\n",
              "Alpha House, S. 1       8676\n",
              "Breaking Bad, S. 6      6927"
            ],
            "text/html": [
              "<div>\n",
              "<style scoped>\n",
              "    .dataframe tbody tr th:only-of-type {\n",
              "        vertical-align: middle;\n",
              "    }\n",
              "\n",
              "    .dataframe tbody tr th {\n",
              "        vertical-align: top;\n",
              "    }\n",
              "\n",
              "    .dataframe thead th {\n",
              "        text-align: right;\n",
              "    }\n",
              "</style>\n",
              "<table border=\"1\" class=\"dataframe\">\n",
              "  <thead>\n",
              "    <tr style=\"text-align: right;\">\n",
              "      <th></th>\n",
              "      <th>rating</th>\n",
              "    </tr>\n",
              "    <tr>\n",
              "      <th>videoName</th>\n",
              "      <th></th>\n",
              "    </tr>\n",
              "  </thead>\n",
              "  <tbody>\n",
              "    <tr>\n",
              "      <th>Under the Dome, S. 1</th>\n",
              "      <td>12633</td>\n",
              "    </tr>\n",
              "    <tr>\n",
              "      <th>BOSCH, S. 1</th>\n",
              "      <td>10938</td>\n",
              "    </tr>\n",
              "    <tr>\n",
              "      <th>The After, S. 1</th>\n",
              "      <td>10226</td>\n",
              "    </tr>\n",
              "    <tr>\n",
              "      <th>Alpha House, S. 1</th>\n",
              "      <td>8676</td>\n",
              "    </tr>\n",
              "    <tr>\n",
              "      <th>Breaking Bad, S. 6</th>\n",
              "      <td>6927</td>\n",
              "    </tr>\n",
              "  </tbody>\n",
              "</table>\n",
              "</div>"
            ]
          },
          "metadata": {},
          "execution_count": 37
        }
      ]
    },
    {
      "cell_type": "code",
      "source": [
        "fig, ax = plt.subplots()\n",
        "\n",
        "ax.bar(pandas_video_name_ratings.index[:10], pandas_video_name_ratings.rating[:10])\n",
        "\n",
        "#customize appearance\n",
        "fig.set_size_inches([10, 7])\n",
        "ax.set_title(\"Num Ratings for Highly Rated Videos (Avg > 4.8)\")\n",
        "ax.set_xlabel(\"Video\")\n",
        "ax.set_ylabel(\"Number of Ratings\")\n",
        "ax.set_xticklabels(get_formatted_columns(pandas_video_name_ratings.index), rotation=45)\n",
        "\n",
        "plt.show()"
      ],
      "metadata": {
        "colab": {
          "base_uri": "https://localhost:8080/",
          "height": 530
        },
        "id": "re2UC1J0xlcC",
        "outputId": "3bda6807-2277-4244-8638-d16b9ef993e2"
      },
      "id": "re2UC1J0xlcC",
      "execution_count": 38,
      "outputs": [
        {
          "output_type": "display_data",
          "data": {
            "text/plain": [
              "<Figure size 720x504 with 1 Axes>"
            ],
            "image/png": "[encoded data removed]"
          },
          "metadata": {
            "needs_background": "light"
          }
        }
      ]
    },
    {
      "cell_type": "markdown",
      "id": "7d752082",
      "metadata": {
        "id": "7d752082"
      },
      "source": [
        "## Recommendation System"
      ]
    },
    {
      "cell_type": "markdown",
      "id": "a7b55cfc",
      "metadata": {
        "id": "a7b55cfc"
      },
      "source": [
        "Now we'll build our ALS algorithm using collaborative filtering:"
      ]
    },
    {
      "cell_type": "code",
      "execution_count": 39,
      "id": "0f090a1d",
      "metadata": {
        "id": "0f090a1d"
      },
      "outputs": [],
      "source": [
        "from pyspark.ml.recommendation import ALS\n",
        "\n",
        "# Initialize ALS with parameters\n",
        "als = ALS(userCol=\"reviewerID\", \n",
        "          itemCol=\"videoID\", \n",
        "          ratingCol=\"rating\",\n",
        "          nonnegative=True, \n",
        "          coldStartStrategy=\"drop\", \n",
        "          implicitPrefs=False)"
      ]
    },
    {
      "cell_type": "markdown",
      "source": [
        "Next, we'll build the `ParamGridBuilder`:"
      ],
      "metadata": {
        "id": "GJ9WEMnS4tSW"
      },
      "id": "GJ9WEMnS4tSW"
    },
    {
      "cell_type": "code",
      "source": [
        "from pyspark.ml.tuning import ParamGridBuilder\n",
        "\n",
        "param_grid = ParamGridBuilder() \\\n",
        "                  .addGrid(als.rank, [5, 20]) \\\n",
        "                  .addGrid(als.maxIter, [5]) \\\n",
        "                  .addGrid(als.regParam, [0.01, 0.05, 1]) \\\n",
        "                  .build()"
      ],
      "metadata": {
        "id": "3b-QOxmq4wLj"
      },
      "id": "3b-QOxmq4wLj",
      "execution_count": 40,
      "outputs": []
    },
    {
      "cell_type": "markdown",
      "source": [
        "Now we'll build our evaluator and use RMSE as the performance metric:"
      ],
      "metadata": {
        "id": "B0PVeoCk4yqi"
      },
      "id": "B0PVeoCk4yqi"
    },
    {
      "cell_type": "code",
      "execution_count": 41,
      "id": "b337gxvK5p_k",
      "metadata": {
        "id": "b337gxvK5p_k",
        "colab": {
          "base_uri": "https://localhost:8080/"
        },
        "outputId": "99821f28-4261-4053-954d-0e3af6f7dfd8"
      },
      "outputs": [
        {
          "output_type": "stream",
          "name": "stdout",
          "text": [
            "Num models to be tested: 6\n"
          ]
        }
      ],
      "source": [
        "from pyspark.ml.evaluation import RegressionEvaluator\n",
        "\n",
        "# Define evaluator\n",
        "reg_eval = RegressionEvaluator(metricName = \"rmse\",\n",
        "                               predictionCol = \"prediction\",\n",
        "                               labelCol = \"rating\")\n",
        "\n",
        "print(f\"Num models to be tested: {len(param_grid)}\")"
      ]
    },
    {
      "cell_type": "markdown",
      "source": [
        "Creating `CrossValidator`:"
      ],
      "metadata": {
        "id": "eJZbJUmt5E31"
      },
      "id": "eJZbJUmt5E31"
    },
    {
      "cell_type": "code",
      "source": [
        "from pyspark.ml.tuning import CrossValidator\n",
        "\n",
        "cv = CrossValidator(estimator = als, \n",
        "                    estimatorParamMaps= param_grid,\n",
        "                    evaluator = reg_eval,\n",
        "                    numFolds = 5)"
      ],
      "metadata": {
        "id": "ALly1m8u5EX_"
      },
      "id": "ALly1m8u5EX_",
      "execution_count": 42,
      "outputs": []
    },
    {
      "cell_type": "markdown",
      "source": [
        "Now, we can fit our training data:"
      ],
      "metadata": {
        "id": "4YpKEk9V5Ljy"
      },
      "id": "4YpKEk9V5Ljy"
    },
    {
      "cell_type": "markdown",
      "source": [
        "*Note: the below cell may take over 35 minutes to execute if you aren't connected to a local runtime/GPU.*"
      ],
      "metadata": {
        "id": "Yej8LlXNbOYi"
      },
      "id": "Yej8LlXNbOYi"
    },
    {
      "cell_type": "code",
      "source": [
        "# Split data into 80% train, 20% test\n",
        "training_data, test_data = video_ratings.randomSplit([0.8, 0.2], seed = 0)\n",
        "\n",
        "# Training model\n",
        "model = cv.fit(training_data)\n",
        "\n",
        "# Get best model\n",
        "best_model = model.bestModel"
      ],
      "metadata": {
        "id": "yxnwtsu1rGNx"
      },
      "id": "yxnwtsu1rGNx",
      "execution_count": 43,
      "outputs": []
    },
    {
      "cell_type": "code",
      "source": [
        "print(type(best_model))\n",
        "\n",
        "print(\"\\n**Best Model**\")\n",
        "print(\"  Rank:\", best_model.rank)\n",
        "print(\"  MaxIter:\", best_model._java_obj.parent().getMaxIter())\n",
        "print(\"  RegParam:\", best_model._java_obj.parent().getRegParam())"
      ],
      "metadata": {
        "id": "UDDfb6Jx5epJ",
        "colab": {
          "base_uri": "https://localhost:8080/"
        },
        "outputId": "375fc3aa-e3a1-4663-b508-a2feff563a13"
      },
      "id": "UDDfb6Jx5epJ",
      "execution_count": 44,
      "outputs": [
        {
          "output_type": "stream",
          "name": "stdout",
          "text": [
            "<class 'pyspark.ml.recommendation.ALSModel'>\n",
            "\n",
            "**Best Model**\n",
            "  Rank: 5\n",
            "  MaxIter: 5\n",
            "  RegParam: 1.0\n"
          ]
        }
      ]
    },
    {
      "cell_type": "markdown",
      "source": [
        "Now we can evaluate our model's performance on the test data:"
      ],
      "metadata": {
        "id": "i8aJBpVw5ihQ"
      },
      "id": "i8aJBpVw5ihQ"
    },
    {
      "cell_type": "code",
      "source": [
        "# Predict ratings using trained model\n",
        "predictions = best_model.transform(test_data)\n",
        "predictions.show(5)"
      ],
      "metadata": {
        "id": "_YAAa8rq5CmM",
        "colab": {
          "base_uri": "https://localhost:8080/"
        },
        "outputId": "eeeda0df-9461-4fda-9ae8-79f437ed04cb"
      },
      "id": "_YAAa8rq5CmM",
      "execution_count": 45,
      "outputs": [
        {
          "output_type": "stream",
          "name": "stdout",
          "text": [
            "+----------+-------+------+-------------------+----------+\n",
            "|reviewerID|videoID|rating|          timestamp|prediction|\n",
            "+----------+-------+------+-------------------+----------+\n",
            "|       183|   8606|   5.0|2013-09-26 20:00:00|  3.574473|\n",
            "|       211|   2433|   5.0|2011-10-15 20:00:00| 2.9784544|\n",
            "|       362|   4016|   5.0|2013-08-04 20:00:00| 2.6546884|\n",
            "|       362|  17397|   5.0|2014-01-07 19:00:00|  3.170917|\n",
            "|       744|   6003|   1.0|2014-04-27 20:00:00| 0.5294391|\n",
            "+----------+-------+------+-------------------+----------+\n",
            "only showing top 5 rows\n",
            "\n"
          ]
        }
      ]
    },
    {
      "cell_type": "code",
      "source": [
        "# Evaluate the \"test_predictions\" dataframe\n",
        "RMSE = reg_eval.evaluate(predictions)\n",
        "\n",
        "# Print the RMSE\n",
        "print(RMSE)"
      ],
      "metadata": {
        "id": "KRwQnZX-5rzz",
        "colab": {
          "base_uri": "https://localhost:8080/"
        },
        "outputId": "b25407ba-62ae-4b40-adeb-d87e064f24dd"
      },
      "id": "KRwQnZX-5rzz",
      "execution_count": 46,
      "outputs": [
        {
          "output_type": "stream",
          "name": "stdout",
          "text": [
            "1.738747674053406\n"
          ]
        }
      ]
    },
    {
      "cell_type": "markdown",
      "source": [
        "### Generate Recommendations for Users"
      ],
      "metadata": {
        "id": "wTHgOMcxb6cY"
      },
      "id": "wTHgOMcxb6cY"
    },
    {
      "cell_type": "code",
      "source": [
        "userRecs = best_model.recommendForAllUsers(5)\n",
        "userRecs.show(5, truncate = False)"
      ],
      "metadata": {
        "id": "0lufMZExb89x",
        "colab": {
          "base_uri": "https://localhost:8080/"
        },
        "outputId": "5afc9d70-9a35-4ebc-bc3c-b5d278aad49f"
      },
      "id": "0lufMZExb89x",
      "execution_count": 47,
      "outputs": [
        {
          "output_type": "stream",
          "name": "stdout",
          "text": [
            "+----------+------------------------------------------------------------------------------------------------+\n",
            "|reviewerID|recommendations                                                                                 |\n",
            "+----------+------------------------------------------------------------------------------------------------+\n",
            "|28        |[{5625, 4.732438}, {3934, 4.7065887}, {20322, 4.669598}, {5978, 4.664792}, {8556, 4.645901}]    |\n",
            "|31        |[{11046, 4.650176}, {5625, 4.647158}, {13376, 4.6310625}, {10933, 4.6102614}, {8556, 4.5863266}]|\n",
            "|34        |[{22993, 4.774438}, {5978, 4.731024}, {13565, 4.649095}, {4027, 4.583221}, {23300, 4.411142}]   |\n",
            "|53        |[{23951, 4.6977587}, {11046, 4.57886}, {2930, 4.547847}, {1824, 4.5336227}, {23300, 4.484162}]  |\n",
            "|78        |[{22757, 4.562871}, {5978, 4.526879}, {22993, 4.460144}, {13565, 4.4229193}, {8556, 4.4045944}] |\n",
            "+----------+------------------------------------------------------------------------------------------------+\n",
            "only showing top 5 rows\n",
            "\n"
          ]
        }
      ]
    },
    {
      "cell_type": "code",
      "source": [
        "userRecs_pandas = userRecs.toPandas()\n",
        "userRecs_pandas.head()"
      ],
      "metadata": {
        "id": "PCB4OfJgdIZZ",
        "colab": {
          "base_uri": "https://localhost:8080/",
          "height": 206
        },
        "outputId": "98b034ed-4f61-49ad-b34c-d020f954a280"
      },
      "id": "PCB4OfJgdIZZ",
      "execution_count": 48,
      "outputs": [
        {
          "output_type": "execute_result",
          "data": {
            "text/plain": [
              "   reviewerID                                    recommendations\n",
              "0          28  [(5625, 4.732438087463379), (3934, 4.706588745...\n",
              "1          31  [(11046, 4.650176048278809), (5625, 4.64715814...\n",
              "2          34  [(22993, 4.77443790435791), (5978, 4.731023788...\n",
              "3          53  [(23951, 4.697758674621582), (11046, 4.5788598...\n",
              "4          78  [(22757, 4.562870979309082), (5978, 4.52687883..."
            ],
            "text/html": [
              "<div>\n",
              "<style scoped>\n",
              "    .dataframe tbody tr th:only-of-type {\n",
              "        vertical-align: middle;\n",
              "    }\n",
              "\n",
              "    .dataframe tbody tr th {\n",
              "        vertical-align: top;\n",
              "    }\n",
              "\n",
              "    .dataframe thead th {\n",
              "        text-align: right;\n",
              "    }\n",
              "</style>\n",
              "<table border=\"1\" class=\"dataframe\">\n",
              "  <thead>\n",
              "    <tr style=\"text-align: right;\">\n",
              "      <th></th>\n",
              "      <th>reviewerID</th>\n",
              "      <th>recommendations</th>\n",
              "    </tr>\n",
              "  </thead>\n",
              "  <tbody>\n",
              "    <tr>\n",
              "      <th>0</th>\n",
              "      <td>28</td>\n",
              "      <td>[(5625, 4.732438087463379), (3934, 4.706588745...</td>\n",
              "    </tr>\n",
              "    <tr>\n",
              "      <th>1</th>\n",
              "      <td>31</td>\n",
              "      <td>[(11046, 4.650176048278809), (5625, 4.64715814...</td>\n",
              "    </tr>\n",
              "    <tr>\n",
              "      <th>2</th>\n",
              "      <td>34</td>\n",
              "      <td>[(22993, 4.77443790435791), (5978, 4.731023788...</td>\n",
              "    </tr>\n",
              "    <tr>\n",
              "      <th>3</th>\n",
              "      <td>53</td>\n",
              "      <td>[(23951, 4.697758674621582), (11046, 4.5788598...</td>\n",
              "    </tr>\n",
              "    <tr>\n",
              "      <th>4</th>\n",
              "      <td>78</td>\n",
              "      <td>[(22757, 4.562870979309082), (5978, 4.52687883...</td>\n",
              "    </tr>\n",
              "  </tbody>\n",
              "</table>\n",
              "</div>"
            ]
          },
          "metadata": {},
          "execution_count": 48
        }
      ]
    },
    {
      "cell_type": "code",
      "source": [
        "def get_user_recommended_videos(recs_df, userId):\n",
        "  try:\n",
        "    recommendations = recs_df[recs_df[\"reviewerID\"] == userId][\"recommendations\"]\n",
        "    for video in recommendations[0]:\n",
        "      print(f\"VideoID: \\n{video[0]}\\nPredicted Rating: {video[1]}\\n\")\n",
        "  except:\n",
        "    print(\"That userId does not exist in the dataset.  Try another.\")"
      ],
      "metadata": {
        "id": "KTQPi2xyzBBv"
      },
      "id": "KTQPi2xyzBBv",
      "execution_count": 49,
      "outputs": []
    },
    {
      "cell_type": "code",
      "source": [
        "get_user_recommended_videos(userRecs_pandas, 1)"
      ],
      "metadata": {
        "id": "xudAerAfzB1H",
        "colab": {
          "base_uri": "https://localhost:8080/"
        },
        "outputId": "3110e886-7b28-4da8-e0c7-cfbb50abaa86"
      },
      "id": "xudAerAfzB1H",
      "execution_count": 50,
      "outputs": [
        {
          "output_type": "stream",
          "name": "stdout",
          "text": [
            "That userId does not exist in the dataset.  Try another.\n"
          ]
        }
      ]
    },
    {
      "cell_type": "code",
      "source": [
        "get_user_recommended_videos(userRecs_pandas, 28)"
      ],
      "metadata": {
        "colab": {
          "base_uri": "https://localhost:8080/"
        },
        "id": "F8MXkXyMGO2Z",
        "outputId": "3f632ef1-1199-4637-a8b2-6a5ff036167e"
      },
      "id": "F8MXkXyMGO2Z",
      "execution_count": 51,
      "outputs": [
        {
          "output_type": "stream",
          "name": "stdout",
          "text": [
            "VideoID: \n",
            "5625\n",
            "Predicted Rating: 4.732438087463379\n",
            "\n",
            "VideoID: \n",
            "3934\n",
            "Predicted Rating: 4.7065887451171875\n",
            "\n",
            "VideoID: \n",
            "20322\n",
            "Predicted Rating: 4.66959810256958\n",
            "\n",
            "VideoID: \n",
            "5978\n",
            "Predicted Rating: 4.664792060852051\n",
            "\n",
            "VideoID: \n",
            "8556\n",
            "Predicted Rating: 4.645901203155518\n",
            "\n"
          ]
        }
      ]
    },
    {
      "cell_type": "markdown",
      "id": "93faad59",
      "metadata": {
        "id": "93faad59"
      },
      "source": [
        "## Conclusions"
      ]
    },
    {
      "cell_type": "markdown",
      "id": "EIaEG1KJ9UOZ",
      "metadata": {
        "id": "EIaEG1KJ9UOZ"
      },
      "source": [
        "- Our ALS algorithm had an RMSE of 1.73\n",
        "- Performance may be improved by either:\n",
        "    - Using more recent data (the most current data from this dataset is from 2014).\n",
        "    - Using better hardware (we were limited by the CPU capabilities of our local machines, and thus couldn't process quickly or try may parameters with hypertuning).\n",
        "    - Use a cloud platform in place of local hardware. "
      ]
    }
  ],
  "metadata": {
    "colab": {
      "collapsed_sections": [],
      "name": "ProductRecommender.ipynb",
      "provenance": []
    },
    "kernelspec": {
      "display_name": "Python 3 (ipykernel)",
      "language": "python",
      "name": "python3"
    },
    "language_info": {
      "codemirror_mode": {
        "name": "ipython",
        "version": 3
      },
      "file_extension": ".py",
      "mimetype": "text/x-python",
      "name": "python",
      "nbconvert_exporter": "python",
      "pygments_lexer": "ipython3",
      "version": "3.10.1"
    },
    "accelerator": "GPU"
  },
  "nbformat": 4,
  "nbformat_minor": 5
}