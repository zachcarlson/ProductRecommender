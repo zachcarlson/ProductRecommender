{
  "cells": [
    {
      "cell_type": "markdown",
      "id": "f256f67a",
      "metadata": {
        "id": "f256f67a"
      },
      "source": [
        "# Using PySpark to Create an Amazon Review Recommendation System \n",
        "\n"
      ]
    },
    {
      "cell_type": "markdown",
      "id": "dd22a959",
      "metadata": {
        "id": "dd22a959"
      },
      "source": [
        "This Jupyter Notebook contains code to create a recommendation system for Amazon user reviews on specific products using PySpark.  It was created as a final project for the class INFO 607: Applied Database Technologies at Drexel University.  The data was downloaded from FIXME: data source.  \n",
        "\n",
        "Additional documentation on this project can be found at the Github repository [here](https://github.com/zachcarlson/ProductRecommender)."
      ]
    },
    {
      "cell_type": "markdown",
      "id": "5048aca6",
      "metadata": {
        "id": "5048aca6"
      },
      "source": [
        "## Configuration"
      ]
    },
    {
      "cell_type": "markdown",
      "id": "b1089410",
      "metadata": {
        "id": "b1089410"
      },
      "source": [
        "We recommend running this notebook in Google Colab using a local runtime and your GPU.  Here are [links](https://stackoverflow.com/questions/51002045/how-to-make-jupyter-notebook-to-run-on-gpu) to setting up this configuration:\n",
        "- [Local Runtime](https://research.google.com/colaboratory/local-runtimes.html)\n",
        "- [Utilizing GPU](https://medium.com/deep-learning-turkey/google-colab-free-gpu-tutorial-e113627b9f5d)\n",
        "\n",
        "Configure your input directory below:"
      ]
    },
    {
      "cell_type": "code",
      "execution_count": null,
      "id": "3ZzpwWEZ5acF",
      "metadata": {
        "id": "3ZzpwWEZ5acF"
      },
      "outputs": [],
      "source": [
        "#INPUT_DIRECTORY = \"/content/drive/MyDrive/Grad School/INFO 607/ProductRecommender/data/\" #for google mount\n",
        "INPUT_DIRECTORY = \"ProductRecommender/data/\" #for jupyter notebook"
      ]
    },
    {
      "cell_type": "markdown",
      "id": "ebbb3f3b",
      "metadata": {
        "id": "ebbb3f3b"
      },
      "source": [
        "### Google Colab Hosted Runtime"
      ]
    },
    {
      "cell_type": "markdown",
      "source": [
        "**NOTE**: Due to the limited resources available for Google Colab's Free Tier, this notebook might not run for you if you are running it in Google Drive using a Hosted Runtime.  We recommend using a Google Colab Local Runtime.  However, if you have Colab Pro/Pro+, this notebook *might* work and you can uncomment the cells below to continue with that particular configuration."
      ],
      "metadata": {
        "id": "ip1AdpV11Bec"
      },
      "id": "ip1AdpV11Bec"
    },
    {
      "cell_type": "code",
      "execution_count": null,
      "id": "df3783e3",
      "metadata": {
        "id": "df3783e3"
      },
      "outputs": [],
      "source": [
        "# from google.colab import drive\n",
        "# drive.mount('/content/drive')"
      ]
    },
    {
      "cell_type": "markdown",
      "id": "6e0Kq2iN512X",
      "metadata": {
        "id": "6e0Kq2iN512X"
      },
      "source": [
        "The cell below may take 1-2 minutes to execute:"
      ]
    },
    {
      "cell_type": "code",
      "execution_count": null,
      "id": "XZYrDEpm5e7j",
      "metadata": {
        "id": "XZYrDEpm5e7j"
      },
      "outputs": [],
      "source": [
        "# %%capture \n",
        "# #prevent large printout with %%capture\n",
        "\n",
        "# #Download Java\n",
        "# !apt-get install openjdk-8-jdk-headless -qq > /dev/null\n",
        "\n",
        "# #Install Apache Spark 3.2.1 with Hadoop 3.2, get zipped folder\n",
        "# !wget -q https://dlcdn.apache.org/spark/spark-3.2.1/spark-3.2.1-bin-hadoop3.2.tgz\n",
        "\n",
        "# #Unzip folder\n",
        "# !tar xvf spark-3.2.1-bin-hadoop3.2.tgz\n",
        "\n",
        "# #Install findspark, pyspark 3.2.1\n",
        "# !pip install -q findspark\n",
        "# !pip install pyspark==3.2.1\n",
        "\n",
        "# #Set variables\n",
        "# import os\n",
        "# os.environ[\"JAVA_HOME\"] = \"/usr/lib/jvm/java-8-openjdk-amd64\"\n",
        "# os.environ[\"SPARK_HOME\"] = \"spark-3.2.1-bin-hadoop3.2\""
      ]
    },
    {
      "cell_type": "markdown",
      "id": "28d08603",
      "metadata": {
        "id": "28d08603"
      },
      "source": [
        "### Google Colab Local Runtime"
      ]
    },
    {
      "cell_type": "markdown",
      "id": "03bf38c8",
      "metadata": {
        "id": "03bf38c8"
      },
      "source": [
        "We recommend using a local Jupyter Notebook as it is much faster for a free user, however, it will require some additional configuration.  Follow this tutorial [here](https://changhsinlee.com/install-pyspark-windows-jupyter/).  "
      ]
    },
    {
      "cell_type": "code",
      "execution_count": null,
      "id": "3b3ec07b",
      "metadata": {
        "id": "3b3ec07b"
      },
      "outputs": [],
      "source": [
        "import findspark\n",
        "findspark.init()"
      ]
    },
    {
      "cell_type": "markdown",
      "id": "tUNtTpW65jJR",
      "metadata": {
        "id": "tUNtTpW65jJR"
      },
      "source": [
        "## Load Packages"
      ]
    },
    {
      "cell_type": "code",
      "execution_count": null,
      "id": "nduYfIam5na_",
      "metadata": {
        "id": "nduYfIam5na_"
      },
      "outputs": [],
      "source": [
        "import pandas as pd\n",
        "import pyspark.sql.functions as F"
      ]
    },
    {
      "cell_type": "markdown",
      "id": "e51316b1",
      "metadata": {
        "id": "e51316b1"
      },
      "source": [
        "## Data Acquisition, Preprocessing"
      ]
    },
    {
      "cell_type": "markdown",
      "id": "mC2aHr0-6PaF",
      "metadata": {
        "id": "mC2aHr0-6PaF"
      },
      "source": [
        "### Import Data"
      ]
    },
    {
      "cell_type": "code",
      "execution_count": null,
      "id": "87cec9ff",
      "metadata": {
        "id": "87cec9ff"
      },
      "outputs": [],
      "source": [
        "#create SparkSession and SparkContext objects\n",
        "from pyspark import SparkContext\n",
        "from pyspark.sql import SparkSession\n",
        "\n",
        "spark = SparkSession.builder.getOrCreate()\n",
        "sc = SparkContext.getOrCreate()\n"
      ]
    },
    {
      "cell_type": "code",
      "execution_count": null,
      "id": "sn3IL-tG6VWb",
      "metadata": {
        "colab": {
          "base_uri": "https://localhost:8080/"
        },
        "id": "sn3IL-tG6VWb",
        "outputId": "be6c7859-11a2-49c8-d51f-00b5633a37b2"
      },
      "outputs": [
        {
          "output_type": "stream",
          "name": "stdout",
          "text": [
            "+--------------+----------+---+----------+\n",
            "|           _c0|       _c1|_c2|       _c3|\n",
            "+--------------+----------+---+----------+\n",
            "| AKM1MP6P0OYPR|0132793040|5.0|1365811200|\n",
            "|A2CX7LUOHB2NDG|0321732944|5.0|1341100800|\n",
            "|A2NWSAGRHCP8N5|0439886341|1.0|1367193600|\n",
            "|A2WNBOD3WNDNKT|0439886341|3.0|1374451200|\n",
            "|A1GI0U4ZRJA8WN|0439886341|1.0|1334707200|\n",
            "+--------------+----------+---+----------+\n",
            "only showing top 5 rows\n",
            "\n"
          ]
        }
      ],
      "source": [
        "#Import data\n",
        "file_path = INPUT_DIRECTORY + \"ratings_electronics.csv\"\n",
        "ratings = spark.read.csv(file_path, header=False, inferSchema=True)\n",
        "ratings.show(5)"
      ]
    },
    {
      "cell_type": "code",
      "source": [
        "ratings.count()"
      ],
      "metadata": {
        "colab": {
          "base_uri": "https://localhost:8080/"
        },
        "id": "5DRKA4hFSkz0",
        "outputId": "f220438b-7c03-47ad-ef37-a780532b9675"
      },
      "id": "5DRKA4hFSkz0",
      "execution_count": null,
      "outputs": [
        {
          "output_type": "execute_result",
          "data": {
            "text/plain": [
              "7824482"
            ]
          },
          "metadata": {},
          "execution_count": 27
        }
      ]
    },
    {
      "cell_type": "markdown",
      "source": [
        "### Pre-processing"
      ],
      "metadata": {
        "id": "nXo2hkRO7uHB"
      },
      "id": "nXo2hkRO7uHB"
    },
    {
      "cell_type": "markdown",
      "source": [
        "#### **Rename columns**"
      ],
      "metadata": {
        "id": "6vDAyS2L02rB"
      },
      "id": "6vDAyS2L02rB"
    },
    {
      "cell_type": "code",
      "execution_count": null,
      "id": "Xa9-VFAt7zx-",
      "metadata": {
        "colab": {
          "base_uri": "https://localhost:8080/"
        },
        "id": "Xa9-VFAt7zx-",
        "outputId": "9b8d68b3-119a-4888-df63-055fd8e9865a"
      },
      "outputs": [
        {
          "output_type": "stream",
          "name": "stdout",
          "text": [
            "+--------------+----------+------+----------+\n",
            "|    reviewerID| productID|rating| timestamp|\n",
            "+--------------+----------+------+----------+\n",
            "| AKM1MP6P0OYPR|0132793040|   5.0|1365811200|\n",
            "|A2CX7LUOHB2NDG|0321732944|   5.0|1341100800|\n",
            "|A2NWSAGRHCP8N5|0439886341|   1.0|1367193600|\n",
            "|A2WNBOD3WNDNKT|0439886341|   3.0|1374451200|\n",
            "|A1GI0U4ZRJA8WN|0439886341|   1.0|1334707200|\n",
            "+--------------+----------+------+----------+\n",
            "only showing top 5 rows\n",
            "\n"
          ]
        }
      ],
      "source": [
        "ratings = ratings.withColumnRenamed(\"_c0\", \"reviewerID\") \\\n",
        "                  .withColumnRenamed(\"_c1\", \"productID\") \\\n",
        "                  .withColumnRenamed(\"_c2\", \"rating\") \\\n",
        "                  .withColumnRenamed(\"_c3\", \"timestamp\")\n",
        "ratings.show(5)"
      ]
    },
    {
      "cell_type": "markdown",
      "source": [
        "#### **Check datatypes**"
      ],
      "metadata": {
        "id": "dUx-xNCD04-K"
      },
      "id": "dUx-xNCD04-K"
    },
    {
      "cell_type": "code",
      "source": [
        "ratings.printSchema()"
      ],
      "metadata": {
        "colab": {
          "base_uri": "https://localhost:8080/"
        },
        "id": "zgSz974N9HLu",
        "outputId": "e13eb2af-d634-47b4-b0a9-3d2b021b27a0"
      },
      "id": "zgSz974N9HLu",
      "execution_count": null,
      "outputs": [
        {
          "output_type": "stream",
          "name": "stdout",
          "text": [
            "root\n",
            " |-- reviewerID: string (nullable = true)\n",
            " |-- productID: string (nullable = true)\n",
            " |-- rating: double (nullable = true)\n",
            " |-- timestamp: integer (nullable = true)\n",
            "\n"
          ]
        }
      ]
    },
    {
      "cell_type": "markdown",
      "source": [
        "We need `reviewerID` and `productID` to be integers for the ALS algorithm.  We'll create separate tables for `reviewers` and `products`.  At the end of the pre-processing section, we'll combine the tables."
      ],
      "metadata": {
        "id": "_hFUXEKb9AFK"
      },
      "id": "_hFUXEKb9AFK"
    },
    {
      "cell_type": "code",
      "source": [
        "from pyspark.sql.functions import monotonically_increasing_id\n",
        "\n",
        "reviewers = ratings.select(\"reviewerID\").distinct().coalesce(1)\n",
        "reviewers.show(5)"
      ],
      "metadata": {
        "colab": {
          "base_uri": "https://localhost:8080/"
        },
        "id": "DIr62vv_9D0f",
        "outputId": "41a36e7b-b018-44c8-c981-22b713954417"
      },
      "id": "DIr62vv_9D0f",
      "execution_count": null,
      "outputs": [
        {
          "output_type": "stream",
          "name": "stdout",
          "text": [
            "+--------------------+\n",
            "|          reviewerID|\n",
            "+--------------------+\n",
            "|A06983862QXQ79V19...|\n",
            "|A10123371OF8W0NAB...|\n",
            "|      A10616E4HZB41X|\n",
            "|      A10AKE9TAADHVV|\n",
            "|      A10AZ52KX1UM1N|\n",
            "+--------------------+\n",
            "only showing top 5 rows\n",
            "\n"
          ]
        }
      ]
    },
    {
      "cell_type": "code",
      "source": [
        "reviewers = reviewers.withColumn(\"userID\", monotonically_increasing_id()).persist()\n",
        "reviewers.show(5)"
      ],
      "metadata": {
        "colab": {
          "base_uri": "https://localhost:8080/"
        },
        "id": "-Yzs6NoH-CTQ",
        "outputId": "e99ecfcc-dccd-4842-df37-a7eb251d6a6b"
      },
      "id": "-Yzs6NoH-CTQ",
      "execution_count": null,
      "outputs": [
        {
          "output_type": "stream",
          "name": "stdout",
          "text": [
            "+--------------------+------+\n",
            "|          reviewerID|userID|\n",
            "+--------------------+------+\n",
            "|A06983862QXQ79V19...|     0|\n",
            "|A10123371OF8W0NAB...|     1|\n",
            "|      A10616E4HZB41X|     2|\n",
            "|      A10AKE9TAADHVV|     3|\n",
            "|      A10AZ52KX1UM1N|     4|\n",
            "+--------------------+------+\n",
            "only showing top 5 rows\n",
            "\n"
          ]
        }
      ]
    },
    {
      "cell_type": "code",
      "source": [
        "products = ratings.select(\"productID\").distinct().coalesce(1)\n",
        "products = products.withColumn(\"product_ID\", monotonically_increasing_id()).persist()\n",
        "products.show(5)"
      ],
      "metadata": {
        "colab": {
          "base_uri": "https://localhost:8080/"
        },
        "id": "4G8xjDyV-Yqm",
        "outputId": "bc2e42dc-5cff-4582-c9df-33238240e043"
      },
      "id": "4G8xjDyV-Yqm",
      "execution_count": null,
      "outputs": [
        {
          "output_type": "stream",
          "name": "stdout",
          "text": [
            "+----------+----------+\n",
            "| productID|product_ID|\n",
            "+----------+----------+\n",
            "|7793224531|         0|\n",
            "|9966694242|         1|\n",
            "|9967222247|         2|\n",
            "|9985975413|         3|\n",
            "|9990950369|         4|\n",
            "+----------+----------+\n",
            "only showing top 5 rows\n",
            "\n"
          ]
        }
      ]
    },
    {
      "cell_type": "markdown",
      "source": [
        "#### **No duplicate ratings**"
      ],
      "metadata": {
        "id": "mTDtLpOe0--T"
      },
      "id": "mTDtLpOe0--T"
    },
    {
      "cell_type": "code",
      "source": [
        "ratings.groupby(\"reviewerID\", \"productID\").count().select(F.max(\"count\")).show()"
      ],
      "metadata": {
        "colab": {
          "base_uri": "https://localhost:8080/"
        },
        "id": "4aOE5dlq1E6z",
        "outputId": "22518bbc-1e1f-4280-e82f-19c3f8999451"
      },
      "id": "4aOE5dlq1E6z",
      "execution_count": null,
      "outputs": [
        {
          "output_type": "stream",
          "name": "stdout",
          "text": [
            "+----------+\n",
            "|max(count)|\n",
            "+----------+\n",
            "|         1|\n",
            "+----------+\n",
            "\n"
          ]
        }
      ]
    },
    {
      "cell_type": "markdown",
      "source": [
        "Each user has only one rating per product, thus filtering based on `timestamp` is not needed.  We will keep the timestamp for EDA purposes and to allow for future filtering if the dataset contains multiple ratings for a given user for  a given product."
      ],
      "metadata": {
        "id": "AMDG2mq21N1n"
      },
      "id": "AMDG2mq21N1n"
    },
    {
      "cell_type": "markdown",
      "source": [
        "#### **Join tables**"
      ],
      "metadata": {
        "id": "7z12Kz8y1dYA"
      },
      "id": "7z12Kz8y1dYA"
    },
    {
      "cell_type": "code",
      "source": [
        "#Join ratings table with new integer IDs for products and reviewers\n",
        "product_ratings = ratings.join(reviewers, on=\"reviewerID\", how=\"left\")\n",
        "product_ratings = product_ratings.join(products, on=\"productID\", how=\"left\")\n",
        "\n",
        "#select just integer IDs, rating and timestamp\n",
        "product_ratings = product_ratings.select(\"userID\", \"product_ID\", \"rating\", \"timestamp\")\n",
        "product_ratings.show(5)"
      ],
      "metadata": {
        "colab": {
          "base_uri": "https://localhost:8080/"
        },
        "id": "sC_VpLN91oRj",
        "outputId": "f34fe69f-e04f-4554-e581-dcaab73c58df"
      },
      "id": "sC_VpLN91oRj",
      "execution_count": null,
      "outputs": [
        {
          "output_type": "stream",
          "name": "stdout",
          "text": [
            "+------+----------+------+----------+\n",
            "|userID|product_ID|rating| timestamp|\n",
            "+------+----------+------+----------+\n",
            "| 41406|    363476|   4.0|1403654400|\n",
            "|277251|    461912|   4.0|1172102400|\n",
            "| 95851|    184723|   5.0|1376524800|\n",
            "|340235|    461912|   4.0|1140652800|\n",
            "|508955|    461912|   3.0|1167782400|\n",
            "+------+----------+------+----------+\n",
            "only showing top 5 rows\n",
            "\n"
          ]
        }
      ]
    },
    {
      "cell_type": "code",
      "source": [
        "#rename columns for readability\n",
        "product_ratings = product_ratings.withColumnRenamed(\"userID\", \"reviewerID\")\n",
        "product_ratings = product_ratings.withColumnRenamed(\"product_ID\", \"productID\")\n",
        "product_ratings.show(5)"
      ],
      "metadata": {
        "colab": {
          "base_uri": "https://localhost:8080/"
        },
        "id": "wh7p5Zpl2-0k",
        "outputId": "dacbccb8-8a9d-46a1-a355-eca07267e72d"
      },
      "id": "wh7p5Zpl2-0k",
      "execution_count": null,
      "outputs": [
        {
          "output_type": "stream",
          "name": "stdout",
          "text": [
            "+----------+---------+------+----------+\n",
            "|reviewerID|productID|rating| timestamp|\n",
            "+----------+---------+------+----------+\n",
            "|     41406|   363476|   4.0|1403654400|\n",
            "|    277251|   461912|   4.0|1172102400|\n",
            "|     95851|   184723|   5.0|1376524800|\n",
            "|    340235|   461912|   4.0|1140652800|\n",
            "|    508955|   461912|   3.0|1167782400|\n",
            "+----------+---------+------+----------+\n",
            "only showing top 5 rows\n",
            "\n"
          ]
        }
      ]
    },
    {
      "cell_type": "markdown",
      "id": "b869102f",
      "metadata": {
        "id": "b869102f"
      },
      "source": [
        "## EDA"
      ]
    },
    {
      "cell_type": "markdown",
      "id": "38e6d39b",
      "metadata": {
        "id": "38e6d39b"
      },
      "source": [
        "Find reviewers with the most ratings:"
      ]
    },
    {
      "cell_type": "code",
      "execution_count": null,
      "id": "0d45b814",
      "metadata": {
        "colab": {
          "base_uri": "https://localhost:8080/"
        },
        "id": "0d45b814",
        "outputId": "b11e5bb7-f6cf-4a5e-9ac0-160ac996f926"
      },
      "outputs": [
        {
          "output_type": "stream",
          "name": "stdout",
          "text": [
            "+----------+-----+\n",
            "|reviewerID|count|\n",
            "+----------+-----+\n",
            "|    948530|  520|\n",
            "|   3950835|  501|\n",
            "|   4098154|  498|\n",
            "|   3173364|  431|\n",
            "|   4182714|  406|\n",
            "+----------+-----+\n",
            "only showing top 5 rows\n",
            "\n"
          ]
        }
      ],
      "source": [
        "product_ratings.select(\"reviewerID\", \"productID\", \"rating\")\\\n",
        "        .groupby(\"reviewerID\")\\\n",
        "        .count()\\\n",
        "        .sort(\"count\", ascending = False)\\\n",
        "        .show(5)"
      ]
    },
    {
      "cell_type": "markdown",
      "id": "cIVvJVai9eEB",
      "metadata": {
        "id": "cIVvJVai9eEB"
      },
      "source": [
        "Find products with the most ratings:"
      ]
    },
    {
      "cell_type": "code",
      "execution_count": null,
      "id": "IEgKLq4H8vzo",
      "metadata": {
        "colab": {
          "base_uri": "https://localhost:8080/"
        },
        "id": "IEgKLq4H8vzo",
        "outputId": "4f698210-c2c9-4e66-8127-90d40f087fff"
      },
      "outputs": [
        {
          "output_type": "stream",
          "name": "stdout",
          "text": [
            "+---------+-----+\n",
            "|productID|count|\n",
            "+---------+-----+\n",
            "|   374843|18244|\n",
            "|   119358|16454|\n",
            "|   232798|14172|\n",
            "|   404930|12285|\n",
            "|   192505|12226|\n",
            "+---------+-----+\n",
            "only showing top 5 rows\n",
            "\n"
          ]
        }
      ],
      "source": [
        "product_ratings.select(\"reviewerID\", \"productID\", \"rating\")\\\n",
        "        .groupby(\"productID\")\\\n",
        "        .count()\\\n",
        "        .sort(\"count\", ascending = False)\\\n",
        "        .show(5)"
      ]
    },
    {
      "cell_type": "markdown",
      "id": "XUe7ew_wAs3Y",
      "metadata": {
        "id": "XUe7ew_wAs3Y"
      },
      "source": [
        "Count and average ratings for each product"
      ]
    },
    {
      "cell_type": "code",
      "execution_count": null,
      "id": "VMYUPMA69uge",
      "metadata": {
        "id": "VMYUPMA69uge",
        "colab": {
          "base_uri": "https://localhost:8080/"
        },
        "outputId": "70f6f1c7-4d57-4a7e-e715-82b068a9f37a"
      },
      "outputs": [
        {
          "output_type": "stream",
          "name": "stdout",
          "text": [
            "+---------+-----+-------+\n",
            "|productID|Count|Average|\n",
            "+---------+-----+-------+\n",
            "|   372621|   45|    5.0|\n",
            "|   430427|   41|    5.0|\n",
            "|    40019|   38|    5.0|\n",
            "|   123258|   36|    5.0|\n",
            "|   210718|   36|    5.0|\n",
            "+---------+-----+-------+\n",
            "only showing top 5 rows\n",
            "\n"
          ]
        }
      ],
      "source": [
        "avg_ratings = (product_ratings\n",
        "                .select(\"productID\", \"rating\")              # Select Columns\n",
        "                .groupby(\"productID\")                       # Group by productID\n",
        "                .agg(                           \n",
        "                     F.count(\"rating\").alias(\"Count\"),      # Count number of ratings\n",
        "                     F.avg(\"rating\").alias(\"Average\")       # Average ratings for each product\n",
        "                     )\n",
        "                .sort(\"Average\", \"Count\", ascending = [False, False]) # Sort results by average and count\n",
        "            )\n",
        "avg_ratings.show(5)"
      ]
    },
    {
      "cell_type": "code",
      "execution_count": null,
      "id": "1KsHMVZ0ww0Q",
      "metadata": {
        "colab": {
          "base_uri": "https://localhost:8080/"
        },
        "id": "1KsHMVZ0ww0Q",
        "outputId": "ae53b232-a779-4758-e4e8-d86712e1df0b"
      },
      "outputs": [
        {
          "output_type": "stream",
          "name": "stdout",
          "text": [
            "+---------+-----+------------------+\n",
            "|productID|Count|           Average|\n",
            "+---------+-----+------------------+\n",
            "|   353808|   75|1.9866666666666666|\n",
            "|   323153|   74|1.9864864864864864|\n",
            "|   285525|   56|1.9821428571428572|\n",
            "|   198144|   55| 1.981818181818182|\n",
            "|   253006|   48|1.9791666666666667|\n",
            "+---------+-----+------------------+\n",
            "only showing top 5 rows\n",
            "\n",
            "Number of distinct products: 476,002.00\n",
            "Number of products with low average (less than 2): 33,341.00\n",
            "% low ratings: 7.00\n"
          ]
        }
      ],
      "source": [
        "low_avg_rating = avg_ratings.filter(avg_ratings.Average < 2)\n",
        "low_avg_rating.show(5)\n",
        "\n",
        "product_num = avg_ratings.select(\"productID\").distinct().count()\n",
        "lar_count = low_avg_rating.count()\n",
        "print(f\"Number of distinct products: {product_num :,.2f}\")\n",
        "print(f\"Number of products with low average (less than 2): {lar_count :,.2f}\")\n",
        "print(f\"% low ratings: {lar_count / product_num * 100 :,.2f}\")\n"
      ]
    },
    {
      "cell_type": "markdown",
      "id": "gXZM8yPDzsfI",
      "metadata": {
        "id": "gXZM8yPDzsfI"
      },
      "source": [
        "The precentage of low rating (less than 2) products is low (7%). "
      ]
    },
    {
      "cell_type": "markdown",
      "id": "7d752082",
      "metadata": {
        "id": "7d752082"
      },
      "source": [
        "## Recommendation System"
      ]
    },
    {
      "cell_type": "markdown",
      "id": "a7b55cfc",
      "metadata": {
        "id": "a7b55cfc"
      },
      "source": [
        "Now we'll build our ALS algorithm using collaborative filtering:"
      ]
    },
    {
      "cell_type": "code",
      "execution_count": null,
      "id": "0f090a1d",
      "metadata": {
        "id": "0f090a1d"
      },
      "outputs": [],
      "source": [
        "from pyspark.ml.recommendation import ALS\n",
        "\n",
        "# Initialize ALS with parameters\n",
        "als = ALS(userCol=\"reviewerID\", itemCol=\"productID\", ratingCol=\"rating\",\n",
        "          nonnegative=True, coldStartStrategy=\"drop\", implicitPrefs=False)"
      ]
    },
    {
      "cell_type": "markdown",
      "source": [
        "Next, we'll build the `ParamGridBuilder`:"
      ],
      "metadata": {
        "id": "GJ9WEMnS4tSW"
      },
      "id": "GJ9WEMnS4tSW"
    },
    {
      "cell_type": "code",
      "source": [
        "from pyspark.ml.tuning import ParamGridBuilder\n",
        "\n",
        "param_grid = ParamGridBuilder() \\\n",
        "                  .addGrid(als.rank, [10]) \\\n",
        "                  .build()"
      ],
      "metadata": {
        "id": "3b-QOxmq4wLj"
      },
      "id": "3b-QOxmq4wLj",
      "execution_count": null,
      "outputs": []
    },
    {
      "cell_type": "markdown",
      "source": [
        "Now we'll build our evaluator and use RMSE as the performance metric:"
      ],
      "metadata": {
        "id": "B0PVeoCk4yqi"
      },
      "id": "B0PVeoCk4yqi"
    },
    {
      "cell_type": "code",
      "execution_count": null,
      "id": "b337gxvK5p_k",
      "metadata": {
        "id": "b337gxvK5p_k"
      },
      "outputs": [],
      "source": [
        "from pyspark.ml.evaluation import RegressionEvaluator\n",
        "\n",
        "# Define evaluator\n",
        "reg_eval = RegressionEvaluator(metricName = \"rmse\",\n",
        "                               predictionCol = \"prediction\",\n",
        "                               labelCol = \"rating\")\n",
        "\n",
        "print(f\"Num models to be tested: {len(param_grid)}\")"
      ]
    },
    {
      "cell_type": "markdown",
      "source": [
        "Creating `CrossValidator`:"
      ],
      "metadata": {
        "id": "eJZbJUmt5E31"
      },
      "id": "eJZbJUmt5E31"
    },
    {
      "cell_type": "code",
      "source": [
        "from pyspark.ml.tuning import CrossValidator\n",
        "\n",
        "cv = CrossValidator(estimator = als, \n",
        "                    estimatorParamMaps= param_grid,\n",
        "                    evaluator = reg_eval,\n",
        "                    numFolds = 5)"
      ],
      "metadata": {
        "id": "ALly1m8u5EX_"
      },
      "id": "ALly1m8u5EX_",
      "execution_count": null,
      "outputs": []
    },
    {
      "cell_type": "markdown",
      "source": [
        "Now, we can fit our training data:"
      ],
      "metadata": {
        "id": "4YpKEk9V5Ljy"
      },
      "id": "4YpKEk9V5Ljy"
    },
    {
      "cell_type": "code",
      "source": [
        "# Split data into 80% train, 20% test\n",
        "training_data, test_data = product_ratings.randomSplit([0.8, 0.2], seed = 0)\n",
        "\n",
        "# Training model\n",
        "model = cv.fit(training_data)\n",
        "\n",
        "# Get best model\n",
        "best_model = model.bestModel"
      ],
      "metadata": {
        "id": "KGKkg_ZZ4rsS"
      },
      "id": "KGKkg_ZZ4rsS",
      "execution_count": null,
      "outputs": []
    },
    {
      "cell_type": "code",
      "source": [
        "print(type(best_model))\n",
        "\n",
        "print(\"\\n**Best Model**\")\n",
        "print(\"  Rank:\", best_model.rank)\n",
        "print(\"  MaxIter:\", best_model._java_obj.parent().getMaxIter())\n",
        "print(\"  RegParam:\", best_model._java_obj.parent().getRegParam())"
      ],
      "metadata": {
        "id": "UDDfb6Jx5epJ"
      },
      "id": "UDDfb6Jx5epJ",
      "execution_count": null,
      "outputs": []
    },
    {
      "cell_type": "markdown",
      "source": [
        "Now we can evaluate our model's performance on the test data:"
      ],
      "metadata": {
        "id": "i8aJBpVw5ihQ"
      },
      "id": "i8aJBpVw5ihQ"
    },
    {
      "cell_type": "code",
      "source": [
        "# Predict ratings using trained model\n",
        "predictions = best_model.transform(test_data)\n",
        "predictions.show(5)"
      ],
      "metadata": {
        "id": "_YAAa8rq5CmM"
      },
      "id": "_YAAa8rq5CmM",
      "execution_count": null,
      "outputs": []
    },
    {
      "cell_type": "code",
      "source": [
        "# Evaluate the \"test_predictions\" dataframe\n",
        "RMSE = reg_eval.evaluate(predictions)\n",
        "\n",
        "# Print the RMSE\n",
        "print(RMSE)"
      ],
      "metadata": {
        "id": "KRwQnZX-5rzz"
      },
      "id": "KRwQnZX-5rzz",
      "execution_count": null,
      "outputs": []
    },
    {
      "cell_type": "code",
      "execution_count": null,
      "id": "097QdS0PALzL",
      "metadata": {
        "id": "097QdS0PALzL"
      },
      "outputs": [],
      "source": [
        "# # Drop NaNs from predictions\n",
        "# predictions_clean = predictions.dropna()\n"
      ]
    },
    {
      "cell_type": "code",
      "execution_count": null,
      "id": "jItFxdxVCExl",
      "metadata": {
        "colab": {
          "base_uri": "https://localhost:8080/"
        },
        "id": "jItFxdxVCExl",
        "outputId": "a6c0c6fe-208b-4e28-9158-a8e2c49fba33"
      },
      "outputs": [
        {
          "output_type": "stream",
          "name": "stdout",
          "text": [
            "After drop: 1340165\n"
          ]
        }
      ],
      "source": [
        "# # print(f\"Before drop: {predictions.count()}\")\n",
        "\n",
        "# print(f\"After drop: {predictions_clean.count()}\")\n"
      ]
    },
    {
      "cell_type": "code",
      "execution_count": null,
      "id": "jDIlZnv9AfHX",
      "metadata": {
        "colab": {
          "base_uri": "https://localhost:8080/"
        },
        "id": "jDIlZnv9AfHX",
        "outputId": "e1ebafee-b3cf-43d2-998b-a607f1aeee89"
      },
      "outputs": [
        {
          "output_type": "stream",
          "name": "stdout",
          "text": [
            "RMSE:  3.21\n"
          ]
        }
      ],
      "source": [
        "\n",
        "# # Calc and print RMSE\n",
        "# print(f\"RMSE: {reg_eval.evaluate(predictions_clean) : ,.2f}\")"
      ]
    },
    {
      "cell_type": "code",
      "execution_count": null,
      "id": "sPTB3mH48piH",
      "metadata": {
        "id": "sPTB3mH48piH"
      },
      "outputs": [],
      "source": [
        "# predictions.show(5)"
      ]
    },
    {
      "cell_type": "markdown",
      "id": "93faad59",
      "metadata": {
        "id": "93faad59"
      },
      "source": [
        "## Conclusions"
      ]
    },
    {
      "cell_type": "markdown",
      "id": "EIaEG1KJ9UOZ",
      "metadata": {
        "id": "EIaEG1KJ9UOZ"
      },
      "source": [
        ""
      ]
    },
    {
      "cell_type": "code",
      "execution_count": null,
      "id": "4f4f2191",
      "metadata": {
        "id": "4f4f2191"
      },
      "outputs": [],
      "source": [
        ""
      ]
    }
  ],
  "metadata": {
    "colab": {
      "collapsed_sections": [],
      "name": "ProductRecommender.ipynb",
      "provenance": []
    },
    "kernelspec": {
      "display_name": "Python 3 (ipykernel)",
      "language": "python",
      "name": "python3"
    },
    "language_info": {
      "codemirror_mode": {
        "name": "ipython",
        "version": 3
      },
      "file_extension": ".py",
      "mimetype": "text/x-python",
      "name": "python",
      "nbconvert_exporter": "python",
      "pygments_lexer": "ipython3",
      "version": "3.10.1"
    },
    "accelerator": "GPU"
  },
  "nbformat": 4,
  "nbformat_minor": 5
}